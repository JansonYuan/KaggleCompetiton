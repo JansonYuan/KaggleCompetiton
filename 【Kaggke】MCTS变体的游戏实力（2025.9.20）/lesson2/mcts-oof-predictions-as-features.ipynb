{
 "cells": [
  {
   "cell_type": "markdown",
   "id": "cc26ff35",
   "metadata": {
    "papermill": {
     "duration": 0.004978,
     "end_time": "2024-10-12T06:32:47.066626",
     "exception": false,
     "start_time": "2024-10-12T06:32:47.061648",
     "status": "completed"
    },
    "tags": []
   },
   "source": [
    "<p style=\"background-color: #1B1212; font-size: 300%; text-align: center; border-radius: 40px 40px; color: #C9A9A6; font-weight: bold; font-family: 'Cinzel', serif; text-transform: uppercase; border: 4px solid #C9A9A6;\">imports</p>"
   ]
  },
  {
   "cell_type": "code",
   "execution_count": 1,
   "id": "992c3fd6",
   "metadata": {
    "execution": {
     "iopub.execute_input": "2024-10-12T06:32:47.077217Z",
     "iopub.status.busy": "2024-10-12T06:32:47.076793Z",
     "iopub.status.idle": "2024-10-12T06:32:47.087362Z",
     "shell.execute_reply": "2024-10-12T06:32:47.086251Z"
    },
    "papermill": {
     "duration": 0.018432,
     "end_time": "2024-10-12T06:32:47.089553",
     "exception": false,
     "start_time": "2024-10-12T06:32:47.071121",
     "status": "completed"
    },
    "tags": []
   },
   "outputs": [],
   "source": [
    "import os\n",
    "import sys\n",
    "import warnings\n",
    "from pathlib import Path\n",
    "warnings.filterwarnings('ignore')"
   ]
  },
  {
   "cell_type": "code",
   "execution_count": 2,
   "id": "8ad441ea",
   "metadata": {
    "execution": {
     "iopub.execute_input": "2024-10-12T06:32:47.100625Z",
     "iopub.status.busy": "2024-10-12T06:32:47.099560Z",
     "iopub.status.idle": "2024-10-12T06:32:48.167070Z",
     "shell.execute_reply": "2024-10-12T06:32:48.166042Z"
    },
    "papermill": {
     "duration": 1.07555,
     "end_time": "2024-10-12T06:32:48.169573",
     "exception": false,
     "start_time": "2024-10-12T06:32:47.094023",
     "status": "completed"
    },
    "tags": []
   },
   "outputs": [],
   "source": [
    "import numpy as np\n",
    "import polars as pl\n",
    "import pandas as pd\n",
    "import plotly.graph_objects as go"
   ]
  },
  {
   "cell_type": "code",
   "execution_count": 3,
   "id": "03187408",
   "metadata": {
    "execution": {
     "iopub.execute_input": "2024-10-12T06:32:48.180565Z",
     "iopub.status.busy": "2024-10-12T06:32:48.179523Z",
     "iopub.status.idle": "2024-10-12T06:32:48.184842Z",
     "shell.execute_reply": "2024-10-12T06:32:48.183743Z"
    },
    "papermill": {
     "duration": 0.012997,
     "end_time": "2024-10-12T06:32:48.186984",
     "exception": false,
     "start_time": "2024-10-12T06:32:48.173987",
     "status": "completed"
    },
    "tags": []
   },
   "outputs": [],
   "source": [
    "pd.options.display.max_rows = None\n",
    "pd.options.display.max_columns = None"
   ]
  },
  {
   "cell_type": "code",
   "execution_count": 4,
   "id": "8a7e8ff8",
   "metadata": {
    "execution": {
     "iopub.execute_input": "2024-10-12T06:32:48.197460Z",
     "iopub.status.busy": "2024-10-12T06:32:48.197074Z",
     "iopub.status.idle": "2024-10-12T06:32:51.270304Z",
     "shell.execute_reply": "2024-10-12T06:32:51.269000Z"
    },
    "papermill": {
     "duration": 3.081411,
     "end_time": "2024-10-12T06:32:51.272969",
     "exception": false,
     "start_time": "2024-10-12T06:32:48.191558",
     "status": "completed"
    },
    "tags": []
   },
   "outputs": [],
   "source": [
    "import lightgbm as lgb\n",
    "from catboost import CatBoostRegressor\n",
    "import kaggle_evaluation.mcts_inference_server\n",
    "from sklearn.model_selection import GroupKFold\n",
    "from sklearn.metrics import mean_squared_error as mse"
   ]
  },
  {
   "cell_type": "markdown",
   "id": "48182941",
   "metadata": {
    "papermill": {
     "duration": 0.004487,
     "end_time": "2024-10-12T06:32:51.282523",
     "exception": false,
     "start_time": "2024-10-12T06:32:51.278036",
     "status": "completed"
    },
    "tags": []
   },
   "source": [
    "<p style=\"background-color: #1B1212; font-size: 300%; text-align: center; border-radius: 40px 40px; color: #C9A9A6; font-weight: bold; font-family: 'Cinzel', serif; text-transform: uppercase; border: 4px solid #C9A9A6;\">configuration class</p>"
   ]
  },
  {
   "cell_type": "code",
   "execution_count": 5,
   "id": "091c89ba",
   "metadata": {
    "execution": {
     "iopub.execute_input": "2024-10-12T06:32:51.293844Z",
     "iopub.status.busy": "2024-10-12T06:32:51.293208Z",
     "iopub.status.idle": "2024-10-12T06:32:51.301701Z",
     "shell.execute_reply": "2024-10-12T06:32:51.300345Z"
    },
    "papermill": {
     "duration": 0.016852,
     "end_time": "2024-10-12T06:32:51.304157",
     "exception": false,
     "start_time": "2024-10-12T06:32:51.287305",
     "status": "completed"
    },
    "tags": []
   },
   "outputs": [],
   "source": [
    "class CFG:\n",
    "    \n",
    "    importances_path = Path('/kaggle/input/mcts-gbdt-select-200-features/importances.csv')    \n",
    "    train_path = Path('/kaggle/input/um-game-playing-strength-of-mcts-variants/train.csv')\n",
    "    batch_size = 65536\n",
    "\n",
    "    early_stop = 100\n",
    "    n_splits = 5\n",
    "    color = '#C9A9A6'\n",
    "    \n",
    "    lgb_p = {\n",
    "        'objective': 'regression',\n",
    "        'min_child_samples': 24,\n",
    "        'num_iterations': 20000,\n",
    "        'learning_rate': 0.03,\n",
    "        'extra_trees': True,\n",
    "        'reg_lambda': 0.8,\n",
    "        'reg_alpha': 0.1,\n",
    "        'num_leaves': 64,\n",
    "        'metric': 'rmse',\n",
    "        'max_depth': 9,\n",
    "        'device': 'cpu',\n",
    "        'max_bin': 128,\n",
    "        'verbose': -1,\n",
    "        'seed': 42\n",
    "    }\n",
    "    \n",
    "    ctb_p = {\n",
    "        'loss_function': 'RMSE',\n",
    "        'learning_rate': 0.03,\n",
    "        'num_trees': 20000,\n",
    "        'random_state': 42,\n",
    "        'task_type': 'CPU',\n",
    "        'reg_lambda': 0.8,\n",
    "        'depth': 8\n",
    "    }"
   ]
  },
  {
   "cell_type": "markdown",
   "id": "40b7c1f0",
   "metadata": {
    "papermill": {
     "duration": 0.004181,
     "end_time": "2024-10-12T06:32:51.312999",
     "exception": false,
     "start_time": "2024-10-12T06:32:51.308818",
     "status": "completed"
    },
    "tags": []
   },
   "source": [
    "<p style=\"background-color: #1B1212; font-size: 300%; text-align: center; border-radius: 40px 40px; color: #C9A9A6; font-weight: bold; font-family: 'Cinzel', serif; text-transform: uppercase; border: 4px solid #C9A9A6;\">feature engineering class</p>"
   ]
  },
  {
   "cell_type": "code",
   "execution_count": 6,
   "id": "7087a89a",
   "metadata": {
    "execution": {
     "iopub.execute_input": "2024-10-12T06:32:51.323792Z",
     "iopub.status.busy": "2024-10-12T06:32:51.323324Z",
     "iopub.status.idle": "2024-10-12T06:32:51.336454Z",
     "shell.execute_reply": "2024-10-12T06:32:51.335374Z"
    },
    "papermill": {
     "duration": 0.02121,
     "end_time": "2024-10-12T06:32:51.338735",
     "exception": false,
     "start_time": "2024-10-12T06:32:51.317525",
     "status": "completed"
    },
    "tags": []
   },
   "outputs": [],
   "source": [
    "class FE:\n",
    "    \n",
    "    def __init__(self, batch_size):\n",
    "        self.batch_size = batch_size\n",
    "        \n",
    "    def drop_cols(self, df, bad_cols=None): # bad_cols must be provided when processing the test data\n",
    "        \n",
    "        # Define redundant columns for model development\n",
    "        cols = ['Id', \n",
    "                'LudRules', \n",
    "                'EnglishRules',\n",
    "                'num_wins_agent1',\n",
    "                'num_draws_agent1',\n",
    "                'num_losses_agent1']\n",
    "        \n",
    "        df = df.drop([col for col in cols if col in df.columns])\n",
    "        \n",
    "        # Select and drop columns with 100% null values\n",
    "        df = df.drop([col for col in df.columns if df.select(pl.col(col).null_count()).item() == df.height])\n",
    "        \n",
    "        # Select (if not provided) and drop columns with only one unique value\n",
    "        bad_cols = [col for col in df.columns if df.select(pl.col(col).n_unique()).item() == 1] if bad_cols is None else bad_cols\n",
    "        df = df.drop(bad_cols)\n",
    "        \n",
    "        return df, bad_cols\n",
    "    \n",
    "    def cast_datatypes(self, df):\n",
    "        \n",
    "        # Set datatype for categorical columns\n",
    "        cat_cols = ['GameRulesetName', 'agent1', 'agent2']\n",
    "        df = df.with_columns([pl.col(col).cast(pl.String) for col in cat_cols])   \n",
    "        \n",
    "        # Find numeric columns\n",
    "        for col in df.columns:\n",
    "            if col not in cat_cols:\n",
    "            \n",
    "                # Set datatype for a numeric column as per the datatype of the first non-null item\n",
    "                val = df.select(pl.col(col).drop_nulls().first()).item()\n",
    "                df = df.with_columns(pl.col(col).cast(pl.Int16) if isinstance(val, int) else pl.col(col).cast(pl.Float32))   \n",
    "            \n",
    "        return df    \n",
    "    \n",
    "    def info(self, df):\n",
    "        \n",
    "        print(f'Shape: {df.shape}')   \n",
    "        mem = df.estimated_size() / 1024**2\n",
    "        print('Memory usage: {:.2f} MB'.format(mem))\n",
    "        \n",
    "    def apply_fe(self, path):\n",
    "        \n",
    "        df = pl.read_csv(path, batch_size=self.batch_size)\n",
    "        \n",
    "        df, bad_cols = self.drop_cols(df)\n",
    "        df = self.cast_datatypes(df)\n",
    "        \n",
    "        cat_cols = [col for col in df.columns if df[col].dtype == pl.String]\n",
    "        \n",
    "        return df, bad_cols, cat_cols"
   ]
  },
  {
   "cell_type": "code",
   "execution_count": 7,
   "id": "596da7b3",
   "metadata": {
    "execution": {
     "iopub.execute_input": "2024-10-12T06:32:51.349420Z",
     "iopub.status.busy": "2024-10-12T06:32:51.348989Z",
     "iopub.status.idle": "2024-10-12T06:32:51.353978Z",
     "shell.execute_reply": "2024-10-12T06:32:51.352728Z"
    },
    "papermill": {
     "duration": 0.012909,
     "end_time": "2024-10-12T06:32:51.356157",
     "exception": false,
     "start_time": "2024-10-12T06:32:51.343248",
     "status": "completed"
    },
    "tags": []
   },
   "outputs": [],
   "source": [
    "fe = FE(CFG.batch_size)"
   ]
  },
  {
   "cell_type": "markdown",
   "id": "2f403b0b",
   "metadata": {
    "papermill": {
     "duration": 0.004486,
     "end_time": "2024-10-12T06:32:51.366214",
     "exception": false,
     "start_time": "2024-10-12T06:32:51.361728",
     "status": "completed"
    },
    "tags": []
   },
   "source": [
    "<p style=\"background-color: #1B1212; font-size: 300%; text-align: center; border-radius: 40px 40px; color: #C9A9A6; font-weight: bold; font-family: 'Cinzel', serif; text-transform: uppercase; border: 4px solid #C9A9A6;\">model development class</p>"
   ]
  },
  {
   "cell_type": "code",
   "execution_count": 8,
   "id": "88ed9ca1",
   "metadata": {
    "execution": {
     "iopub.execute_input": "2024-10-12T06:32:51.377280Z",
     "iopub.status.busy": "2024-10-12T06:32:51.376854Z",
     "iopub.status.idle": "2024-10-12T06:32:51.399094Z",
     "shell.execute_reply": "2024-10-12T06:32:51.397925Z"
    },
    "papermill": {
     "duration": 0.030653,
     "end_time": "2024-10-12T06:32:51.401462",
     "exception": false,
     "start_time": "2024-10-12T06:32:51.370809",
     "status": "completed"
    },
    "tags": []
   },
   "outputs": [],
   "source": [
    "class MD:\n",
    "    \n",
    "    def __init__(self, \n",
    "                 importances_path, \n",
    "                 early_stop, \n",
    "                 n_splits, \n",
    "                 lgb_p, \n",
    "                 ctb_p, \n",
    "                 color):\n",
    "        \n",
    "        self.importances_path = importances_path\n",
    "        self.early_stop = early_stop\n",
    "        self.n_splits = n_splits\n",
    "        self.lgb_p = lgb_p\n",
    "        self.ctb_p = ctb_p\n",
    "        self.color = color\n",
    "        \n",
    "    def plot_cv(self, fold_scores, title):\n",
    "        \n",
    "        fold_scores = [round(score, 3) for score in fold_scores]\n",
    "        mean_score = round(np.mean(fold_scores), 3)\n",
    "        std_score = round(np.std(fold_scores), 3)\n",
    "\n",
    "        fig = go.Figure()\n",
    "\n",
    "        fig.add_trace(go.Scatter(\n",
    "            x = list(range(1, len(fold_scores) + 1)),\n",
    "            y = fold_scores,\n",
    "            mode = 'markers', \n",
    "            name = 'Fold Scores',\n",
    "            marker = dict(size = 24, color=self.color, symbol='diamond'),\n",
    "            text = [f'{score:.3f}' for score in fold_scores],\n",
    "            hovertemplate = 'Fold %{x}: %{text}<extra></extra>',\n",
    "            hoverlabel=dict(font=dict(size=16))  \n",
    "        ))\n",
    "\n",
    "        fig.add_trace(go.Scatter(\n",
    "            x = [1, len(fold_scores)],\n",
    "            y = [mean_score, mean_score],\n",
    "            mode = 'lines',\n",
    "            name = f'Mean: {mean_score:.3f}',\n",
    "            line = dict(dash = 'dash', color = '#FFBF00'),\n",
    "            hoverinfo = 'none'\n",
    "        ))\n",
    "\n",
    "        fig.update_layout(\n",
    "            title = f'{title} | Cross-Validation RMSE Scores | Variation of CV scores: {mean_score} ± {std_score}',\n",
    "            xaxis_title = 'Fold',\n",
    "            yaxis_title = 'RMSE Score',\n",
    "            plot_bgcolor = 'rgba(0,0,0,0)',\n",
    "            paper_bgcolor = 'rgba(0,0,0,0)',\n",
    "            xaxis = dict(\n",
    "                gridcolor = 'lightgray',\n",
    "                tickmode = 'linear',\n",
    "                tick0 = 1,\n",
    "                dtick = 1,\n",
    "                range = [0.5, len(fold_scores) + 0.5]\n",
    "            ),\n",
    "            yaxis = dict(gridcolor = 'lightgray')\n",
    "        )\n",
    "\n",
    "        fig.show() \n",
    "        \n",
    "    def train_model(self, data, cat_cols, title):\n",
    "        \n",
    "        importances = pd.read_csv(self.importances_path)\n",
    "        \n",
    "        for col in cat_cols:\n",
    "            data[col] = data[col].astype('category')\n",
    "        \n",
    "        # Define features (X), label (y) and grouping column (group) for CV\n",
    "        X = data.drop(['utility_agent1'], axis=1)\n",
    "        y = data['utility_agent1']\n",
    "        group = data['GameRulesetName']\n",
    "        \n",
    "        cv = GroupKFold(n_splits=self.n_splits)\n",
    "        \n",
    "        models, scores = [], []\n",
    "        \n",
    "        # Initialize out-of-fold predictions array\n",
    "        oof_preds = np.zeros(len(X))\n",
    "        \n",
    "        for fold, (train_index, valid_index) in enumerate(cv.split(X, y, group), 1):\n",
    "            \n",
    "            drop_features = importances['drop_features'].tolist()\n",
    "                \n",
    "            X_train, X_valid = X.iloc[train_index].drop(drop_features, axis=1), X.iloc[valid_index].drop(drop_features, axis=1)\n",
    "            y_train, y_valid = y.iloc[train_index], y.iloc[valid_index]            \n",
    "            \n",
    "            print(f'Fold {fold} | {title} uses {X_train.shape[1]} features')\n",
    "                \n",
    "            if title.startswith('LightGBM'):\n",
    "\n",
    "                model = lgb.LGBMRegressor(**self.lgb_p)\n",
    "\n",
    "                model.fit(X_train, y_train,\n",
    "                          eval_set=[(X_valid, y_valid)],\n",
    "                          eval_metric='rmse',\n",
    "                          callbacks=[lgb.early_stopping(self.early_stop, verbose=0), lgb.log_evaluation(0)])\n",
    "            \n",
    "            elif title.startswith('CatBoost'):\n",
    "            \n",
    "                model = CatBoostRegressor(**self.ctb_p, verbose=0, cat_features=cat_cols)\n",
    "\n",
    "                model.fit(X_train, y_train,\n",
    "                          eval_set=(X_valid, y_valid),\n",
    "                          early_stopping_rounds=self.early_stop, verbose=0)\n",
    "\n",
    "            models.append(model)\n",
    "\n",
    "            # Store out-of-fold predictions for this fold\n",
    "            oof_preds[valid_index] = model.predict(X_valid)\n",
    "            score = mse(y_valid, oof_preds[valid_index], squared=False)\n",
    "            scores.append(score)\n",
    "        \n",
    "        self.plot_cv(scores, title)\n",
    "        \n",
    "        return models, oof_preds\n",
    "    \n",
    "    def inference(self, data, cat_cols, lgb_models, ctb_models, lgb_models_oof):\n",
    "\n",
    "        importances = pd.read_csv(self.importances_path)\n",
    "            \n",
    "        drop_features = importances['drop_features'].tolist()\n",
    "        data = data.drop(drop_features, axis=1)\n",
    "\n",
    "        for col in cat_cols:\n",
    "            data[col] = data[col].astype('category')\n",
    "                \n",
    "        data['lgb_oof_preds'] = np.mean([model.predict(data) for model in lgb_models], axis=0)\n",
    "        data['ctb_oof_preds'] = np.mean([model.predict(data) for model in ctb_models], axis=0)\n",
    "        \n",
    "        lgb_preds = np.mean([model.predict(data) for model in lgb_models_oof], axis=0)  \n",
    "        \n",
    "        return lgb_preds"
   ]
  },
  {
   "cell_type": "code",
   "execution_count": 9,
   "id": "00d7f1a5",
   "metadata": {
    "execution": {
     "iopub.execute_input": "2024-10-12T06:32:51.412532Z",
     "iopub.status.busy": "2024-10-12T06:32:51.412123Z",
     "iopub.status.idle": "2024-10-12T06:32:51.417330Z",
     "shell.execute_reply": "2024-10-12T06:32:51.416081Z"
    },
    "papermill": {
     "duration": 0.013338,
     "end_time": "2024-10-12T06:32:51.419667",
     "exception": false,
     "start_time": "2024-10-12T06:32:51.406329",
     "status": "completed"
    },
    "tags": []
   },
   "outputs": [],
   "source": [
    "md = MD(CFG.importances_path, \n",
    "        CFG.early_stop, \n",
    "        CFG.n_splits, \n",
    "        CFG.lgb_p, \n",
    "        CFG.ctb_p, \n",
    "        CFG.color)"
   ]
  },
  {
   "cell_type": "markdown",
   "id": "45965bb5",
   "metadata": {
    "papermill": {
     "duration": 0.004514,
     "end_time": "2024-10-12T06:32:51.429005",
     "exception": false,
     "start_time": "2024-10-12T06:32:51.424491",
     "status": "completed"
    },
    "tags": []
   },
   "source": [
    "<p style=\"background-color: #1B1212; font-size: 300%; text-align: center; border-radius: 40px 40px; color: #C9A9A6; font-weight: bold; font-family: 'Cinzel', serif; text-transform: uppercase; border: 4px solid #C9A9A6;\">trainer function</p>"
   ]
  },
  {
   "cell_type": "code",
   "execution_count": 10,
   "id": "b44a80ba",
   "metadata": {
    "execution": {
     "iopub.execute_input": "2024-10-12T06:32:51.440706Z",
     "iopub.status.busy": "2024-10-12T06:32:51.439794Z",
     "iopub.status.idle": "2024-10-12T06:32:51.446477Z",
     "shell.execute_reply": "2024-10-12T06:32:51.445386Z"
    },
    "papermill": {
     "duration": 0.015015,
     "end_time": "2024-10-12T06:32:51.448833",
     "exception": false,
     "start_time": "2024-10-12T06:32:51.433818",
     "status": "completed"
    },
    "tags": []
   },
   "outputs": [],
   "source": [
    "def train_model():\n",
    "    \n",
    "    global bad_cols, cat_cols, lgb_models, ctb_models, lgb_models_oof\n",
    "    \n",
    "    train, bad_cols, cat_cols = fe.apply_fe(CFG.train_path)\n",
    "    train = train.to_pandas()\n",
    "        \n",
    "    lgb_models, lgb_oof_preds = md.train_model(train, cat_cols, title='LightGBM')\n",
    "    ctb_models, ctb_oof_preds = md.train_model(train, cat_cols, title='CatBoost')\n",
    "    \n",
    "    train['lgb_oof_preds'] = lgb_oof_preds\n",
    "    train['ctb_oof_preds'] = ctb_oof_preds\n",
    "    \n",
    "    lgb_models_oof, _ = md.train_model(train, cat_cols, title='LightGBM w/ OOF Predictions')"
   ]
  },
  {
   "cell_type": "markdown",
   "id": "209c9caf",
   "metadata": {
    "papermill": {
     "duration": 0.004475,
     "end_time": "2024-10-12T06:32:51.458073",
     "exception": false,
     "start_time": "2024-10-12T06:32:51.453598",
     "status": "completed"
    },
    "tags": []
   },
   "source": [
    "<p style=\"background-color: #1B1212; font-size: 300%; text-align: center; border-radius: 40px 40px; color: #C9A9A6; font-weight: bold; font-family: 'Cinzel', serif; text-transform: uppercase; border: 4px solid #C9A9A6;\">inference function</p>"
   ]
  },
  {
   "cell_type": "code",
   "execution_count": 11,
   "id": "beff9d7e",
   "metadata": {
    "execution": {
     "iopub.execute_input": "2024-10-12T06:32:51.469204Z",
     "iopub.status.busy": "2024-10-12T06:32:51.468787Z",
     "iopub.status.idle": "2024-10-12T06:32:51.475357Z",
     "shell.execute_reply": "2024-10-12T06:32:51.474187Z"
    },
    "papermill": {
     "duration": 0.014755,
     "end_time": "2024-10-12T06:32:51.477507",
     "exception": false,
     "start_time": "2024-10-12T06:32:51.462752",
     "status": "completed"
    },
    "tags": []
   },
   "outputs": [],
   "source": [
    "counter = 0\n",
    "def predict(test, submission):\n",
    "    \n",
    "    global counter\n",
    "    \n",
    "    if counter == 0:\n",
    "        train_model() \n",
    "        \n",
    "    counter += 1\n",
    "    \n",
    "    test, _ = fe.drop_cols(test, bad_cols)\n",
    "    test = fe.cast_datatypes(test)\n",
    "    test = test.to_pandas()\n",
    "    \n",
    "    return submission.with_columns(pl.Series('utility_agent1', md.inference(test,\n",
    "                                                                            cat_cols, \n",
    "                                                                            lgb_models, \n",
    "                                                                            ctb_models, \n",
    "                                                                            lgb_models_oof)))"
   ]
  },
  {
   "cell_type": "markdown",
   "id": "d185a07c",
   "metadata": {
    "papermill": {
     "duration": 0.004519,
     "end_time": "2024-10-12T06:32:51.486951",
     "exception": false,
     "start_time": "2024-10-12T06:32:51.482432",
     "status": "completed"
    },
    "tags": []
   },
   "source": [
    "<p style=\"background-color: #1B1212; font-size: 300%; text-align: center; border-radius: 40px 40px; color: #C9A9A6; font-weight: bold; font-family: 'Cinzel', serif; text-transform: uppercase; border: 4px solid #C9A9A6;\">call the gateway server</p>"
   ]
  },
  {
   "cell_type": "code",
   "execution_count": 12,
   "id": "deb10a0e",
   "metadata": {
    "execution": {
     "iopub.execute_input": "2024-10-12T06:32:51.498023Z",
     "iopub.status.busy": "2024-10-12T06:32:51.497566Z",
     "iopub.status.idle": "2024-10-12T10:00:38.646383Z",
     "shell.execute_reply": "2024-10-12T10:00:38.645119Z"
    },
    "papermill": {
     "duration": 12467.157574,
     "end_time": "2024-10-12T10:00:38.649209",
     "exception": false,
     "start_time": "2024-10-12T06:32:51.491635",
     "status": "completed"
    },
    "tags": []
   },
   "outputs": [
    {
     "name": "stdout",
     "output_type": "stream",
     "text": [
      "Fold 1 | LightGBM uses 293 features\n",
      "Fold 2 | LightGBM uses 293 features\n",
      "Fold 3 | LightGBM uses 293 features\n",
      "Fold 4 | LightGBM uses 293 features\n",
      "Fold 5 | LightGBM uses 293 features\n"
     ]
    },
    {
     "data": {
      "text/html": [
       "        <script type=\"text/javascript\">\n",
       "        window.PlotlyConfig = {MathJaxConfig: 'local'};\n",
       "        if (window.MathJax && window.MathJax.Hub && window.MathJax.Hub.Config) {window.MathJax.Hub.Config({SVG: {font: \"STIX-Web\"}});}\n",
       "        if (typeof require !== 'undefined') {\n",
       "        require.undef(\"plotly\");\n",
       "        requirejs.config({\n",
       "            paths: {\n",
       "                'plotly': ['https://cdn.plot.ly/plotly-2.32.0.min']\n",
       "            }\n",
       "        });\n",
       "        require(['plotly'], function(Plotly) {\n",
       "            window._Plotly = Plotly;\n",
       "        });\n",
       "        }\n",
       "        </script>\n",
       "        "
      ]
     },
     "metadata": {},
     "output_type": "display_data"
    },
    {
     "data": {
      "text/html": [
       "<div>                            <div id=\"1b40ed4f-2e7d-46fe-8c6b-a9fa2f0e7aa9\" class=\"plotly-graph-div\" style=\"height:525px; width:100%;\"></div>            <script type=\"text/javascript\">                require([\"plotly\"], function(Plotly) {                    window.PLOTLYENV=window.PLOTLYENV || {};                                    if (document.getElementById(\"1b40ed4f-2e7d-46fe-8c6b-a9fa2f0e7aa9\")) {                    Plotly.newPlot(                        \"1b40ed4f-2e7d-46fe-8c6b-a9fa2f0e7aa9\",                        [{\"hoverlabel\":{\"font\":{\"size\":16}},\"hovertemplate\":\"Fold %{x}: %{text}\\u003cextra\\u003e\\u003c\\u002fextra\\u003e\",\"marker\":{\"color\":\"#C9A9A6\",\"size\":24,\"symbol\":\"diamond\"},\"mode\":\"markers\",\"name\":\"Fold Scores\",\"text\":[\"0.474\",\"0.470\",\"0.480\",\"0.463\",\"0.480\"],\"x\":[1,2,3,4,5],\"y\":[0.474,0.47,0.48,0.463,0.48],\"type\":\"scatter\"},{\"hoverinfo\":\"none\",\"line\":{\"color\":\"#FFBF00\",\"dash\":\"dash\"},\"mode\":\"lines\",\"name\":\"Mean: 0.473\",\"x\":[1,5],\"y\":[0.473,0.473],\"type\":\"scatter\"}],                        {\"template\":{\"data\":{\"histogram2dcontour\":[{\"type\":\"histogram2dcontour\",\"colorbar\":{\"outlinewidth\":0,\"ticks\":\"\"},\"colorscale\":[[0.0,\"#0d0887\"],[0.1111111111111111,\"#46039f\"],[0.2222222222222222,\"#7201a8\"],[0.3333333333333333,\"#9c179e\"],[0.4444444444444444,\"#bd3786\"],[0.5555555555555556,\"#d8576b\"],[0.6666666666666666,\"#ed7953\"],[0.7777777777777778,\"#fb9f3a\"],[0.8888888888888888,\"#fdca26\"],[1.0,\"#f0f921\"]]}],\"choropleth\":[{\"type\":\"choropleth\",\"colorbar\":{\"outlinewidth\":0,\"ticks\":\"\"}}],\"histogram2d\":[{\"type\":\"histogram2d\",\"colorbar\":{\"outlinewidth\":0,\"ticks\":\"\"},\"colorscale\":[[0.0,\"#0d0887\"],[0.1111111111111111,\"#46039f\"],[0.2222222222222222,\"#7201a8\"],[0.3333333333333333,\"#9c179e\"],[0.4444444444444444,\"#bd3786\"],[0.5555555555555556,\"#d8576b\"],[0.6666666666666666,\"#ed7953\"],[0.7777777777777778,\"#fb9f3a\"],[0.8888888888888888,\"#fdca26\"],[1.0,\"#f0f921\"]]}],\"heatmap\":[{\"type\":\"heatmap\",\"colorbar\":{\"outlinewidth\":0,\"ticks\":\"\"},\"colorscale\":[[0.0,\"#0d0887\"],[0.1111111111111111,\"#46039f\"],[0.2222222222222222,\"#7201a8\"],[0.3333333333333333,\"#9c179e\"],[0.4444444444444444,\"#bd3786\"],[0.5555555555555556,\"#d8576b\"],[0.6666666666666666,\"#ed7953\"],[0.7777777777777778,\"#fb9f3a\"],[0.8888888888888888,\"#fdca26\"],[1.0,\"#f0f921\"]]}],\"heatmapgl\":[{\"type\":\"heatmapgl\",\"colorbar\":{\"outlinewidth\":0,\"ticks\":\"\"},\"colorscale\":[[0.0,\"#0d0887\"],[0.1111111111111111,\"#46039f\"],[0.2222222222222222,\"#7201a8\"],[0.3333333333333333,\"#9c179e\"],[0.4444444444444444,\"#bd3786\"],[0.5555555555555556,\"#d8576b\"],[0.6666666666666666,\"#ed7953\"],[0.7777777777777778,\"#fb9f3a\"],[0.8888888888888888,\"#fdca26\"],[1.0,\"#f0f921\"]]}],\"contourcarpet\":[{\"type\":\"contourcarpet\",\"colorbar\":{\"outlinewidth\":0,\"ticks\":\"\"}}],\"contour\":[{\"type\":\"contour\",\"colorbar\":{\"outlinewidth\":0,\"ticks\":\"\"},\"colorscale\":[[0.0,\"#0d0887\"],[0.1111111111111111,\"#46039f\"],[0.2222222222222222,\"#7201a8\"],[0.3333333333333333,\"#9c179e\"],[0.4444444444444444,\"#bd3786\"],[0.5555555555555556,\"#d8576b\"],[0.6666666666666666,\"#ed7953\"],[0.7777777777777778,\"#fb9f3a\"],[0.8888888888888888,\"#fdca26\"],[1.0,\"#f0f921\"]]}],\"surface\":[{\"type\":\"surface\",\"colorbar\":{\"outlinewidth\":0,\"ticks\":\"\"},\"colorscale\":[[0.0,\"#0d0887\"],[0.1111111111111111,\"#46039f\"],[0.2222222222222222,\"#7201a8\"],[0.3333333333333333,\"#9c179e\"],[0.4444444444444444,\"#bd3786\"],[0.5555555555555556,\"#d8576b\"],[0.6666666666666666,\"#ed7953\"],[0.7777777777777778,\"#fb9f3a\"],[0.8888888888888888,\"#fdca26\"],[1.0,\"#f0f921\"]]}],\"mesh3d\":[{\"type\":\"mesh3d\",\"colorbar\":{\"outlinewidth\":0,\"ticks\":\"\"}}],\"scatter\":[{\"fillpattern\":{\"fillmode\":\"overlay\",\"size\":10,\"solidity\":0.2},\"type\":\"scatter\"}],\"parcoords\":[{\"type\":\"parcoords\",\"line\":{\"colorbar\":{\"outlinewidth\":0,\"ticks\":\"\"}}}],\"scatterpolargl\":[{\"type\":\"scatterpolargl\",\"marker\":{\"colorbar\":{\"outlinewidth\":0,\"ticks\":\"\"}}}],\"bar\":[{\"error_x\":{\"color\":\"#2a3f5f\"},\"error_y\":{\"color\":\"#2a3f5f\"},\"marker\":{\"line\":{\"color\":\"#E5ECF6\",\"width\":0.5},\"pattern\":{\"fillmode\":\"overlay\",\"size\":10,\"solidity\":0.2}},\"type\":\"bar\"}],\"scattergeo\":[{\"type\":\"scattergeo\",\"marker\":{\"colorbar\":{\"outlinewidth\":0,\"ticks\":\"\"}}}],\"scatterpolar\":[{\"type\":\"scatterpolar\",\"marker\":{\"colorbar\":{\"outlinewidth\":0,\"ticks\":\"\"}}}],\"histogram\":[{\"marker\":{\"pattern\":{\"fillmode\":\"overlay\",\"size\":10,\"solidity\":0.2}},\"type\":\"histogram\"}],\"scattergl\":[{\"type\":\"scattergl\",\"marker\":{\"colorbar\":{\"outlinewidth\":0,\"ticks\":\"\"}}}],\"scatter3d\":[{\"type\":\"scatter3d\",\"line\":{\"colorbar\":{\"outlinewidth\":0,\"ticks\":\"\"}},\"marker\":{\"colorbar\":{\"outlinewidth\":0,\"ticks\":\"\"}}}],\"scattermapbox\":[{\"type\":\"scattermapbox\",\"marker\":{\"colorbar\":{\"outlinewidth\":0,\"ticks\":\"\"}}}],\"scatterternary\":[{\"type\":\"scatterternary\",\"marker\":{\"colorbar\":{\"outlinewidth\":0,\"ticks\":\"\"}}}],\"scattercarpet\":[{\"type\":\"scattercarpet\",\"marker\":{\"colorbar\":{\"outlinewidth\":0,\"ticks\":\"\"}}}],\"carpet\":[{\"aaxis\":{\"endlinecolor\":\"#2a3f5f\",\"gridcolor\":\"white\",\"linecolor\":\"white\",\"minorgridcolor\":\"white\",\"startlinecolor\":\"#2a3f5f\"},\"baxis\":{\"endlinecolor\":\"#2a3f5f\",\"gridcolor\":\"white\",\"linecolor\":\"white\",\"minorgridcolor\":\"white\",\"startlinecolor\":\"#2a3f5f\"},\"type\":\"carpet\"}],\"table\":[{\"cells\":{\"fill\":{\"color\":\"#EBF0F8\"},\"line\":{\"color\":\"white\"}},\"header\":{\"fill\":{\"color\":\"#C8D4E3\"},\"line\":{\"color\":\"white\"}},\"type\":\"table\"}],\"barpolar\":[{\"marker\":{\"line\":{\"color\":\"#E5ECF6\",\"width\":0.5},\"pattern\":{\"fillmode\":\"overlay\",\"size\":10,\"solidity\":0.2}},\"type\":\"barpolar\"}],\"pie\":[{\"automargin\":true,\"type\":\"pie\"}]},\"layout\":{\"autotypenumbers\":\"strict\",\"colorway\":[\"#636efa\",\"#EF553B\",\"#00cc96\",\"#ab63fa\",\"#FFA15A\",\"#19d3f3\",\"#FF6692\",\"#B6E880\",\"#FF97FF\",\"#FECB52\"],\"font\":{\"color\":\"#2a3f5f\"},\"hovermode\":\"closest\",\"hoverlabel\":{\"align\":\"left\"},\"paper_bgcolor\":\"white\",\"plot_bgcolor\":\"#E5ECF6\",\"polar\":{\"bgcolor\":\"#E5ECF6\",\"angularaxis\":{\"gridcolor\":\"white\",\"linecolor\":\"white\",\"ticks\":\"\"},\"radialaxis\":{\"gridcolor\":\"white\",\"linecolor\":\"white\",\"ticks\":\"\"}},\"ternary\":{\"bgcolor\":\"#E5ECF6\",\"aaxis\":{\"gridcolor\":\"white\",\"linecolor\":\"white\",\"ticks\":\"\"},\"baxis\":{\"gridcolor\":\"white\",\"linecolor\":\"white\",\"ticks\":\"\"},\"caxis\":{\"gridcolor\":\"white\",\"linecolor\":\"white\",\"ticks\":\"\"}},\"coloraxis\":{\"colorbar\":{\"outlinewidth\":0,\"ticks\":\"\"}},\"colorscale\":{\"sequential\":[[0.0,\"#0d0887\"],[0.1111111111111111,\"#46039f\"],[0.2222222222222222,\"#7201a8\"],[0.3333333333333333,\"#9c179e\"],[0.4444444444444444,\"#bd3786\"],[0.5555555555555556,\"#d8576b\"],[0.6666666666666666,\"#ed7953\"],[0.7777777777777778,\"#fb9f3a\"],[0.8888888888888888,\"#fdca26\"],[1.0,\"#f0f921\"]],\"sequentialminus\":[[0.0,\"#0d0887\"],[0.1111111111111111,\"#46039f\"],[0.2222222222222222,\"#7201a8\"],[0.3333333333333333,\"#9c179e\"],[0.4444444444444444,\"#bd3786\"],[0.5555555555555556,\"#d8576b\"],[0.6666666666666666,\"#ed7953\"],[0.7777777777777778,\"#fb9f3a\"],[0.8888888888888888,\"#fdca26\"],[1.0,\"#f0f921\"]],\"diverging\":[[0,\"#8e0152\"],[0.1,\"#c51b7d\"],[0.2,\"#de77ae\"],[0.3,\"#f1b6da\"],[0.4,\"#fde0ef\"],[0.5,\"#f7f7f7\"],[0.6,\"#e6f5d0\"],[0.7,\"#b8e186\"],[0.8,\"#7fbc41\"],[0.9,\"#4d9221\"],[1,\"#276419\"]]},\"xaxis\":{\"gridcolor\":\"white\",\"linecolor\":\"white\",\"ticks\":\"\",\"title\":{\"standoff\":15},\"zerolinecolor\":\"white\",\"automargin\":true,\"zerolinewidth\":2},\"yaxis\":{\"gridcolor\":\"white\",\"linecolor\":\"white\",\"ticks\":\"\",\"title\":{\"standoff\":15},\"zerolinecolor\":\"white\",\"automargin\":true,\"zerolinewidth\":2},\"scene\":{\"xaxis\":{\"backgroundcolor\":\"#E5ECF6\",\"gridcolor\":\"white\",\"linecolor\":\"white\",\"showbackground\":true,\"ticks\":\"\",\"zerolinecolor\":\"white\",\"gridwidth\":2},\"yaxis\":{\"backgroundcolor\":\"#E5ECF6\",\"gridcolor\":\"white\",\"linecolor\":\"white\",\"showbackground\":true,\"ticks\":\"\",\"zerolinecolor\":\"white\",\"gridwidth\":2},\"zaxis\":{\"backgroundcolor\":\"#E5ECF6\",\"gridcolor\":\"white\",\"linecolor\":\"white\",\"showbackground\":true,\"ticks\":\"\",\"zerolinecolor\":\"white\",\"gridwidth\":2}},\"shapedefaults\":{\"line\":{\"color\":\"#2a3f5f\"}},\"annotationdefaults\":{\"arrowcolor\":\"#2a3f5f\",\"arrowhead\":0,\"arrowwidth\":1},\"geo\":{\"bgcolor\":\"white\",\"landcolor\":\"#E5ECF6\",\"subunitcolor\":\"white\",\"showland\":true,\"showlakes\":true,\"lakecolor\":\"white\"},\"title\":{\"x\":0.05},\"mapbox\":{\"style\":\"light\"}}},\"xaxis\":{\"title\":{\"text\":\"Fold\"},\"gridcolor\":\"lightgray\",\"tickmode\":\"linear\",\"tick0\":1,\"dtick\":1,\"range\":[0.5,5.5]},\"yaxis\":{\"title\":{\"text\":\"RMSE Score\"},\"gridcolor\":\"lightgray\"},\"title\":{\"text\":\"LightGBM | Cross-Validation RMSE Scores | Variation of CV scores: 0.473 ± 0.006\"},\"plot_bgcolor\":\"rgba(0,0,0,0)\",\"paper_bgcolor\":\"rgba(0,0,0,0)\"},                        {\"responsive\": true}                    ).then(function(){\n",
       "                            \n",
       "var gd = document.getElementById('1b40ed4f-2e7d-46fe-8c6b-a9fa2f0e7aa9');\n",
       "var x = new MutationObserver(function (mutations, observer) {{\n",
       "        var display = window.getComputedStyle(gd).display;\n",
       "        if (!display || display === 'none') {{\n",
       "            console.log([gd, 'removed!']);\n",
       "            Plotly.purge(gd);\n",
       "            observer.disconnect();\n",
       "        }}\n",
       "}});\n",
       "\n",
       "// Listen for the removal of the full notebook cells\n",
       "var notebookContainer = gd.closest('#notebook-container');\n",
       "if (notebookContainer) {{\n",
       "    x.observe(notebookContainer, {childList: true});\n",
       "}}\n",
       "\n",
       "// Listen for the clearing of the current output cell\n",
       "var outputEl = gd.closest('.output');\n",
       "if (outputEl) {{\n",
       "    x.observe(outputEl, {childList: true});\n",
       "}}\n",
       "\n",
       "                        })                };                });            </script>        </div>"
      ]
     },
     "metadata": {},
     "output_type": "display_data"
    },
    {
     "name": "stdout",
     "output_type": "stream",
     "text": [
      "Fold 1 | CatBoost uses 293 features\n",
      "Fold 2 | CatBoost uses 293 features\n",
      "Fold 3 | CatBoost uses 293 features\n",
      "Fold 4 | CatBoost uses 293 features\n",
      "Fold 5 | CatBoost uses 293 features\n"
     ]
    },
    {
     "data": {
      "text/html": [
       "<div>                            <div id=\"6f1fd3c9-d613-4ba9-8f45-bf97f53dc071\" class=\"plotly-graph-div\" style=\"height:525px; width:100%;\"></div>            <script type=\"text/javascript\">                require([\"plotly\"], function(Plotly) {                    window.PLOTLYENV=window.PLOTLYENV || {};                                    if (document.getElementById(\"6f1fd3c9-d613-4ba9-8f45-bf97f53dc071\")) {                    Plotly.newPlot(                        \"6f1fd3c9-d613-4ba9-8f45-bf97f53dc071\",                        [{\"hoverlabel\":{\"font\":{\"size\":16}},\"hovertemplate\":\"Fold %{x}: %{text}\\u003cextra\\u003e\\u003c\\u002fextra\\u003e\",\"marker\":{\"color\":\"#C9A9A6\",\"size\":24,\"symbol\":\"diamond\"},\"mode\":\"markers\",\"name\":\"Fold Scores\",\"text\":[\"0.464\",\"0.484\",\"0.476\",\"0.474\",\"0.474\"],\"x\":[1,2,3,4,5],\"y\":[0.464,0.484,0.476,0.474,0.474],\"type\":\"scatter\"},{\"hoverinfo\":\"none\",\"line\":{\"color\":\"#FFBF00\",\"dash\":\"dash\"},\"mode\":\"lines\",\"name\":\"Mean: 0.474\",\"x\":[1,5],\"y\":[0.474,0.474],\"type\":\"scatter\"}],                        {\"template\":{\"data\":{\"histogram2dcontour\":[{\"type\":\"histogram2dcontour\",\"colorbar\":{\"outlinewidth\":0,\"ticks\":\"\"},\"colorscale\":[[0.0,\"#0d0887\"],[0.1111111111111111,\"#46039f\"],[0.2222222222222222,\"#7201a8\"],[0.3333333333333333,\"#9c179e\"],[0.4444444444444444,\"#bd3786\"],[0.5555555555555556,\"#d8576b\"],[0.6666666666666666,\"#ed7953\"],[0.7777777777777778,\"#fb9f3a\"],[0.8888888888888888,\"#fdca26\"],[1.0,\"#f0f921\"]]}],\"choropleth\":[{\"type\":\"choropleth\",\"colorbar\":{\"outlinewidth\":0,\"ticks\":\"\"}}],\"histogram2d\":[{\"type\":\"histogram2d\",\"colorbar\":{\"outlinewidth\":0,\"ticks\":\"\"},\"colorscale\":[[0.0,\"#0d0887\"],[0.1111111111111111,\"#46039f\"],[0.2222222222222222,\"#7201a8\"],[0.3333333333333333,\"#9c179e\"],[0.4444444444444444,\"#bd3786\"],[0.5555555555555556,\"#d8576b\"],[0.6666666666666666,\"#ed7953\"],[0.7777777777777778,\"#fb9f3a\"],[0.8888888888888888,\"#fdca26\"],[1.0,\"#f0f921\"]]}],\"heatmap\":[{\"type\":\"heatmap\",\"colorbar\":{\"outlinewidth\":0,\"ticks\":\"\"},\"colorscale\":[[0.0,\"#0d0887\"],[0.1111111111111111,\"#46039f\"],[0.2222222222222222,\"#7201a8\"],[0.3333333333333333,\"#9c179e\"],[0.4444444444444444,\"#bd3786\"],[0.5555555555555556,\"#d8576b\"],[0.6666666666666666,\"#ed7953\"],[0.7777777777777778,\"#fb9f3a\"],[0.8888888888888888,\"#fdca26\"],[1.0,\"#f0f921\"]]}],\"heatmapgl\":[{\"type\":\"heatmapgl\",\"colorbar\":{\"outlinewidth\":0,\"ticks\":\"\"},\"colorscale\":[[0.0,\"#0d0887\"],[0.1111111111111111,\"#46039f\"],[0.2222222222222222,\"#7201a8\"],[0.3333333333333333,\"#9c179e\"],[0.4444444444444444,\"#bd3786\"],[0.5555555555555556,\"#d8576b\"],[0.6666666666666666,\"#ed7953\"],[0.7777777777777778,\"#fb9f3a\"],[0.8888888888888888,\"#fdca26\"],[1.0,\"#f0f921\"]]}],\"contourcarpet\":[{\"type\":\"contourcarpet\",\"colorbar\":{\"outlinewidth\":0,\"ticks\":\"\"}}],\"contour\":[{\"type\":\"contour\",\"colorbar\":{\"outlinewidth\":0,\"ticks\":\"\"},\"colorscale\":[[0.0,\"#0d0887\"],[0.1111111111111111,\"#46039f\"],[0.2222222222222222,\"#7201a8\"],[0.3333333333333333,\"#9c179e\"],[0.4444444444444444,\"#bd3786\"],[0.5555555555555556,\"#d8576b\"],[0.6666666666666666,\"#ed7953\"],[0.7777777777777778,\"#fb9f3a\"],[0.8888888888888888,\"#fdca26\"],[1.0,\"#f0f921\"]]}],\"surface\":[{\"type\":\"surface\",\"colorbar\":{\"outlinewidth\":0,\"ticks\":\"\"},\"colorscale\":[[0.0,\"#0d0887\"],[0.1111111111111111,\"#46039f\"],[0.2222222222222222,\"#7201a8\"],[0.3333333333333333,\"#9c179e\"],[0.4444444444444444,\"#bd3786\"],[0.5555555555555556,\"#d8576b\"],[0.6666666666666666,\"#ed7953\"],[0.7777777777777778,\"#fb9f3a\"],[0.8888888888888888,\"#fdca26\"],[1.0,\"#f0f921\"]]}],\"mesh3d\":[{\"type\":\"mesh3d\",\"colorbar\":{\"outlinewidth\":0,\"ticks\":\"\"}}],\"scatter\":[{\"fillpattern\":{\"fillmode\":\"overlay\",\"size\":10,\"solidity\":0.2},\"type\":\"scatter\"}],\"parcoords\":[{\"type\":\"parcoords\",\"line\":{\"colorbar\":{\"outlinewidth\":0,\"ticks\":\"\"}}}],\"scatterpolargl\":[{\"type\":\"scatterpolargl\",\"marker\":{\"colorbar\":{\"outlinewidth\":0,\"ticks\":\"\"}}}],\"bar\":[{\"error_x\":{\"color\":\"#2a3f5f\"},\"error_y\":{\"color\":\"#2a3f5f\"},\"marker\":{\"line\":{\"color\":\"#E5ECF6\",\"width\":0.5},\"pattern\":{\"fillmode\":\"overlay\",\"size\":10,\"solidity\":0.2}},\"type\":\"bar\"}],\"scattergeo\":[{\"type\":\"scattergeo\",\"marker\":{\"colorbar\":{\"outlinewidth\":0,\"ticks\":\"\"}}}],\"scatterpolar\":[{\"type\":\"scatterpolar\",\"marker\":{\"colorbar\":{\"outlinewidth\":0,\"ticks\":\"\"}}}],\"histogram\":[{\"marker\":{\"pattern\":{\"fillmode\":\"overlay\",\"size\":10,\"solidity\":0.2}},\"type\":\"histogram\"}],\"scattergl\":[{\"type\":\"scattergl\",\"marker\":{\"colorbar\":{\"outlinewidth\":0,\"ticks\":\"\"}}}],\"scatter3d\":[{\"type\":\"scatter3d\",\"line\":{\"colorbar\":{\"outlinewidth\":0,\"ticks\":\"\"}},\"marker\":{\"colorbar\":{\"outlinewidth\":0,\"ticks\":\"\"}}}],\"scattermapbox\":[{\"type\":\"scattermapbox\",\"marker\":{\"colorbar\":{\"outlinewidth\":0,\"ticks\":\"\"}}}],\"scatterternary\":[{\"type\":\"scatterternary\",\"marker\":{\"colorbar\":{\"outlinewidth\":0,\"ticks\":\"\"}}}],\"scattercarpet\":[{\"type\":\"scattercarpet\",\"marker\":{\"colorbar\":{\"outlinewidth\":0,\"ticks\":\"\"}}}],\"carpet\":[{\"aaxis\":{\"endlinecolor\":\"#2a3f5f\",\"gridcolor\":\"white\",\"linecolor\":\"white\",\"minorgridcolor\":\"white\",\"startlinecolor\":\"#2a3f5f\"},\"baxis\":{\"endlinecolor\":\"#2a3f5f\",\"gridcolor\":\"white\",\"linecolor\":\"white\",\"minorgridcolor\":\"white\",\"startlinecolor\":\"#2a3f5f\"},\"type\":\"carpet\"}],\"table\":[{\"cells\":{\"fill\":{\"color\":\"#EBF0F8\"},\"line\":{\"color\":\"white\"}},\"header\":{\"fill\":{\"color\":\"#C8D4E3\"},\"line\":{\"color\":\"white\"}},\"type\":\"table\"}],\"barpolar\":[{\"marker\":{\"line\":{\"color\":\"#E5ECF6\",\"width\":0.5},\"pattern\":{\"fillmode\":\"overlay\",\"size\":10,\"solidity\":0.2}},\"type\":\"barpolar\"}],\"pie\":[{\"automargin\":true,\"type\":\"pie\"}]},\"layout\":{\"autotypenumbers\":\"strict\",\"colorway\":[\"#636efa\",\"#EF553B\",\"#00cc96\",\"#ab63fa\",\"#FFA15A\",\"#19d3f3\",\"#FF6692\",\"#B6E880\",\"#FF97FF\",\"#FECB52\"],\"font\":{\"color\":\"#2a3f5f\"},\"hovermode\":\"closest\",\"hoverlabel\":{\"align\":\"left\"},\"paper_bgcolor\":\"white\",\"plot_bgcolor\":\"#E5ECF6\",\"polar\":{\"bgcolor\":\"#E5ECF6\",\"angularaxis\":{\"gridcolor\":\"white\",\"linecolor\":\"white\",\"ticks\":\"\"},\"radialaxis\":{\"gridcolor\":\"white\",\"linecolor\":\"white\",\"ticks\":\"\"}},\"ternary\":{\"bgcolor\":\"#E5ECF6\",\"aaxis\":{\"gridcolor\":\"white\",\"linecolor\":\"white\",\"ticks\":\"\"},\"baxis\":{\"gridcolor\":\"white\",\"linecolor\":\"white\",\"ticks\":\"\"},\"caxis\":{\"gridcolor\":\"white\",\"linecolor\":\"white\",\"ticks\":\"\"}},\"coloraxis\":{\"colorbar\":{\"outlinewidth\":0,\"ticks\":\"\"}},\"colorscale\":{\"sequential\":[[0.0,\"#0d0887\"],[0.1111111111111111,\"#46039f\"],[0.2222222222222222,\"#7201a8\"],[0.3333333333333333,\"#9c179e\"],[0.4444444444444444,\"#bd3786\"],[0.5555555555555556,\"#d8576b\"],[0.6666666666666666,\"#ed7953\"],[0.7777777777777778,\"#fb9f3a\"],[0.8888888888888888,\"#fdca26\"],[1.0,\"#f0f921\"]],\"sequentialminus\":[[0.0,\"#0d0887\"],[0.1111111111111111,\"#46039f\"],[0.2222222222222222,\"#7201a8\"],[0.3333333333333333,\"#9c179e\"],[0.4444444444444444,\"#bd3786\"],[0.5555555555555556,\"#d8576b\"],[0.6666666666666666,\"#ed7953\"],[0.7777777777777778,\"#fb9f3a\"],[0.8888888888888888,\"#fdca26\"],[1.0,\"#f0f921\"]],\"diverging\":[[0,\"#8e0152\"],[0.1,\"#c51b7d\"],[0.2,\"#de77ae\"],[0.3,\"#f1b6da\"],[0.4,\"#fde0ef\"],[0.5,\"#f7f7f7\"],[0.6,\"#e6f5d0\"],[0.7,\"#b8e186\"],[0.8,\"#7fbc41\"],[0.9,\"#4d9221\"],[1,\"#276419\"]]},\"xaxis\":{\"gridcolor\":\"white\",\"linecolor\":\"white\",\"ticks\":\"\",\"title\":{\"standoff\":15},\"zerolinecolor\":\"white\",\"automargin\":true,\"zerolinewidth\":2},\"yaxis\":{\"gridcolor\":\"white\",\"linecolor\":\"white\",\"ticks\":\"\",\"title\":{\"standoff\":15},\"zerolinecolor\":\"white\",\"automargin\":true,\"zerolinewidth\":2},\"scene\":{\"xaxis\":{\"backgroundcolor\":\"#E5ECF6\",\"gridcolor\":\"white\",\"linecolor\":\"white\",\"showbackground\":true,\"ticks\":\"\",\"zerolinecolor\":\"white\",\"gridwidth\":2},\"yaxis\":{\"backgroundcolor\":\"#E5ECF6\",\"gridcolor\":\"white\",\"linecolor\":\"white\",\"showbackground\":true,\"ticks\":\"\",\"zerolinecolor\":\"white\",\"gridwidth\":2},\"zaxis\":{\"backgroundcolor\":\"#E5ECF6\",\"gridcolor\":\"white\",\"linecolor\":\"white\",\"showbackground\":true,\"ticks\":\"\",\"zerolinecolor\":\"white\",\"gridwidth\":2}},\"shapedefaults\":{\"line\":{\"color\":\"#2a3f5f\"}},\"annotationdefaults\":{\"arrowcolor\":\"#2a3f5f\",\"arrowhead\":0,\"arrowwidth\":1},\"geo\":{\"bgcolor\":\"white\",\"landcolor\":\"#E5ECF6\",\"subunitcolor\":\"white\",\"showland\":true,\"showlakes\":true,\"lakecolor\":\"white\"},\"title\":{\"x\":0.05},\"mapbox\":{\"style\":\"light\"}}},\"xaxis\":{\"title\":{\"text\":\"Fold\"},\"gridcolor\":\"lightgray\",\"tickmode\":\"linear\",\"tick0\":1,\"dtick\":1,\"range\":[0.5,5.5]},\"yaxis\":{\"title\":{\"text\":\"RMSE Score\"},\"gridcolor\":\"lightgray\"},\"title\":{\"text\":\"CatBoost | Cross-Validation RMSE Scores | Variation of CV scores: 0.474 ± 0.006\"},\"plot_bgcolor\":\"rgba(0,0,0,0)\",\"paper_bgcolor\":\"rgba(0,0,0,0)\"},                        {\"responsive\": true}                    ).then(function(){\n",
       "                            \n",
       "var gd = document.getElementById('6f1fd3c9-d613-4ba9-8f45-bf97f53dc071');\n",
       "var x = new MutationObserver(function (mutations, observer) {{\n",
       "        var display = window.getComputedStyle(gd).display;\n",
       "        if (!display || display === 'none') {{\n",
       "            console.log([gd, 'removed!']);\n",
       "            Plotly.purge(gd);\n",
       "            observer.disconnect();\n",
       "        }}\n",
       "}});\n",
       "\n",
       "// Listen for the removal of the full notebook cells\n",
       "var notebookContainer = gd.closest('#notebook-container');\n",
       "if (notebookContainer) {{\n",
       "    x.observe(notebookContainer, {childList: true});\n",
       "}}\n",
       "\n",
       "// Listen for the clearing of the current output cell\n",
       "var outputEl = gd.closest('.output');\n",
       "if (outputEl) {{\n",
       "    x.observe(outputEl, {childList: true});\n",
       "}}\n",
       "\n",
       "                        })                };                });            </script>        </div>"
      ]
     },
     "metadata": {},
     "output_type": "display_data"
    },
    {
     "name": "stdout",
     "output_type": "stream",
     "text": [
      "Fold 1 | LightGBM w/ OOF Predictions uses 295 features\n",
      "Fold 2 | LightGBM w/ OOF Predictions uses 295 features\n",
      "Fold 3 | LightGBM w/ OOF Predictions uses 295 features\n",
      "Fold 4 | LightGBM w/ OOF Predictions uses 295 features\n",
      "Fold 5 | LightGBM w/ OOF Predictions uses 295 features\n"
     ]
    },
    {
     "data": {
      "text/html": [
       "<div>                            <div id=\"1a421dc6-739b-4641-9612-7f325fd19ef1\" class=\"plotly-graph-div\" style=\"height:525px; width:100%;\"></div>            <script type=\"text/javascript\">                require([\"plotly\"], function(Plotly) {                    window.PLOTLYENV=window.PLOTLYENV || {};                                    if (document.getElementById(\"1a421dc6-739b-4641-9612-7f325fd19ef1\")) {                    Plotly.newPlot(                        \"1a421dc6-739b-4641-9612-7f325fd19ef1\",                        [{\"hoverlabel\":{\"font\":{\"size\":16}},\"hovertemplate\":\"Fold %{x}: %{text}\\u003cextra\\u003e\\u003c\\u002fextra\\u003e\",\"marker\":{\"color\":\"#C9A9A6\",\"size\":24,\"symbol\":\"diamond\"},\"mode\":\"markers\",\"name\":\"Fold Scores\",\"text\":[\"0.450\",\"0.450\",\"0.457\",\"0.440\",\"0.448\"],\"x\":[1,2,3,4,5],\"y\":[0.45,0.45,0.457,0.44,0.448],\"type\":\"scatter\"},{\"hoverinfo\":\"none\",\"line\":{\"color\":\"#FFBF00\",\"dash\":\"dash\"},\"mode\":\"lines\",\"name\":\"Mean: 0.449\",\"x\":[1,5],\"y\":[0.449,0.449],\"type\":\"scatter\"}],                        {\"template\":{\"data\":{\"histogram2dcontour\":[{\"type\":\"histogram2dcontour\",\"colorbar\":{\"outlinewidth\":0,\"ticks\":\"\"},\"colorscale\":[[0.0,\"#0d0887\"],[0.1111111111111111,\"#46039f\"],[0.2222222222222222,\"#7201a8\"],[0.3333333333333333,\"#9c179e\"],[0.4444444444444444,\"#bd3786\"],[0.5555555555555556,\"#d8576b\"],[0.6666666666666666,\"#ed7953\"],[0.7777777777777778,\"#fb9f3a\"],[0.8888888888888888,\"#fdca26\"],[1.0,\"#f0f921\"]]}],\"choropleth\":[{\"type\":\"choropleth\",\"colorbar\":{\"outlinewidth\":0,\"ticks\":\"\"}}],\"histogram2d\":[{\"type\":\"histogram2d\",\"colorbar\":{\"outlinewidth\":0,\"ticks\":\"\"},\"colorscale\":[[0.0,\"#0d0887\"],[0.1111111111111111,\"#46039f\"],[0.2222222222222222,\"#7201a8\"],[0.3333333333333333,\"#9c179e\"],[0.4444444444444444,\"#bd3786\"],[0.5555555555555556,\"#d8576b\"],[0.6666666666666666,\"#ed7953\"],[0.7777777777777778,\"#fb9f3a\"],[0.8888888888888888,\"#fdca26\"],[1.0,\"#f0f921\"]]}],\"heatmap\":[{\"type\":\"heatmap\",\"colorbar\":{\"outlinewidth\":0,\"ticks\":\"\"},\"colorscale\":[[0.0,\"#0d0887\"],[0.1111111111111111,\"#46039f\"],[0.2222222222222222,\"#7201a8\"],[0.3333333333333333,\"#9c179e\"],[0.4444444444444444,\"#bd3786\"],[0.5555555555555556,\"#d8576b\"],[0.6666666666666666,\"#ed7953\"],[0.7777777777777778,\"#fb9f3a\"],[0.8888888888888888,\"#fdca26\"],[1.0,\"#f0f921\"]]}],\"heatmapgl\":[{\"type\":\"heatmapgl\",\"colorbar\":{\"outlinewidth\":0,\"ticks\":\"\"},\"colorscale\":[[0.0,\"#0d0887\"],[0.1111111111111111,\"#46039f\"],[0.2222222222222222,\"#7201a8\"],[0.3333333333333333,\"#9c179e\"],[0.4444444444444444,\"#bd3786\"],[0.5555555555555556,\"#d8576b\"],[0.6666666666666666,\"#ed7953\"],[0.7777777777777778,\"#fb9f3a\"],[0.8888888888888888,\"#fdca26\"],[1.0,\"#f0f921\"]]}],\"contourcarpet\":[{\"type\":\"contourcarpet\",\"colorbar\":{\"outlinewidth\":0,\"ticks\":\"\"}}],\"contour\":[{\"type\":\"contour\",\"colorbar\":{\"outlinewidth\":0,\"ticks\":\"\"},\"colorscale\":[[0.0,\"#0d0887\"],[0.1111111111111111,\"#46039f\"],[0.2222222222222222,\"#7201a8\"],[0.3333333333333333,\"#9c179e\"],[0.4444444444444444,\"#bd3786\"],[0.5555555555555556,\"#d8576b\"],[0.6666666666666666,\"#ed7953\"],[0.7777777777777778,\"#fb9f3a\"],[0.8888888888888888,\"#fdca26\"],[1.0,\"#f0f921\"]]}],\"surface\":[{\"type\":\"surface\",\"colorbar\":{\"outlinewidth\":0,\"ticks\":\"\"},\"colorscale\":[[0.0,\"#0d0887\"],[0.1111111111111111,\"#46039f\"],[0.2222222222222222,\"#7201a8\"],[0.3333333333333333,\"#9c179e\"],[0.4444444444444444,\"#bd3786\"],[0.5555555555555556,\"#d8576b\"],[0.6666666666666666,\"#ed7953\"],[0.7777777777777778,\"#fb9f3a\"],[0.8888888888888888,\"#fdca26\"],[1.0,\"#f0f921\"]]}],\"mesh3d\":[{\"type\":\"mesh3d\",\"colorbar\":{\"outlinewidth\":0,\"ticks\":\"\"}}],\"scatter\":[{\"fillpattern\":{\"fillmode\":\"overlay\",\"size\":10,\"solidity\":0.2},\"type\":\"scatter\"}],\"parcoords\":[{\"type\":\"parcoords\",\"line\":{\"colorbar\":{\"outlinewidth\":0,\"ticks\":\"\"}}}],\"scatterpolargl\":[{\"type\":\"scatterpolargl\",\"marker\":{\"colorbar\":{\"outlinewidth\":0,\"ticks\":\"\"}}}],\"bar\":[{\"error_x\":{\"color\":\"#2a3f5f\"},\"error_y\":{\"color\":\"#2a3f5f\"},\"marker\":{\"line\":{\"color\":\"#E5ECF6\",\"width\":0.5},\"pattern\":{\"fillmode\":\"overlay\",\"size\":10,\"solidity\":0.2}},\"type\":\"bar\"}],\"scattergeo\":[{\"type\":\"scattergeo\",\"marker\":{\"colorbar\":{\"outlinewidth\":0,\"ticks\":\"\"}}}],\"scatterpolar\":[{\"type\":\"scatterpolar\",\"marker\":{\"colorbar\":{\"outlinewidth\":0,\"ticks\":\"\"}}}],\"histogram\":[{\"marker\":{\"pattern\":{\"fillmode\":\"overlay\",\"size\":10,\"solidity\":0.2}},\"type\":\"histogram\"}],\"scattergl\":[{\"type\":\"scattergl\",\"marker\":{\"colorbar\":{\"outlinewidth\":0,\"ticks\":\"\"}}}],\"scatter3d\":[{\"type\":\"scatter3d\",\"line\":{\"colorbar\":{\"outlinewidth\":0,\"ticks\":\"\"}},\"marker\":{\"colorbar\":{\"outlinewidth\":0,\"ticks\":\"\"}}}],\"scattermapbox\":[{\"type\":\"scattermapbox\",\"marker\":{\"colorbar\":{\"outlinewidth\":0,\"ticks\":\"\"}}}],\"scatterternary\":[{\"type\":\"scatterternary\",\"marker\":{\"colorbar\":{\"outlinewidth\":0,\"ticks\":\"\"}}}],\"scattercarpet\":[{\"type\":\"scattercarpet\",\"marker\":{\"colorbar\":{\"outlinewidth\":0,\"ticks\":\"\"}}}],\"carpet\":[{\"aaxis\":{\"endlinecolor\":\"#2a3f5f\",\"gridcolor\":\"white\",\"linecolor\":\"white\",\"minorgridcolor\":\"white\",\"startlinecolor\":\"#2a3f5f\"},\"baxis\":{\"endlinecolor\":\"#2a3f5f\",\"gridcolor\":\"white\",\"linecolor\":\"white\",\"minorgridcolor\":\"white\",\"startlinecolor\":\"#2a3f5f\"},\"type\":\"carpet\"}],\"table\":[{\"cells\":{\"fill\":{\"color\":\"#EBF0F8\"},\"line\":{\"color\":\"white\"}},\"header\":{\"fill\":{\"color\":\"#C8D4E3\"},\"line\":{\"color\":\"white\"}},\"type\":\"table\"}],\"barpolar\":[{\"marker\":{\"line\":{\"color\":\"#E5ECF6\",\"width\":0.5},\"pattern\":{\"fillmode\":\"overlay\",\"size\":10,\"solidity\":0.2}},\"type\":\"barpolar\"}],\"pie\":[{\"automargin\":true,\"type\":\"pie\"}]},\"layout\":{\"autotypenumbers\":\"strict\",\"colorway\":[\"#636efa\",\"#EF553B\",\"#00cc96\",\"#ab63fa\",\"#FFA15A\",\"#19d3f3\",\"#FF6692\",\"#B6E880\",\"#FF97FF\",\"#FECB52\"],\"font\":{\"color\":\"#2a3f5f\"},\"hovermode\":\"closest\",\"hoverlabel\":{\"align\":\"left\"},\"paper_bgcolor\":\"white\",\"plot_bgcolor\":\"#E5ECF6\",\"polar\":{\"bgcolor\":\"#E5ECF6\",\"angularaxis\":{\"gridcolor\":\"white\",\"linecolor\":\"white\",\"ticks\":\"\"},\"radialaxis\":{\"gridcolor\":\"white\",\"linecolor\":\"white\",\"ticks\":\"\"}},\"ternary\":{\"bgcolor\":\"#E5ECF6\",\"aaxis\":{\"gridcolor\":\"white\",\"linecolor\":\"white\",\"ticks\":\"\"},\"baxis\":{\"gridcolor\":\"white\",\"linecolor\":\"white\",\"ticks\":\"\"},\"caxis\":{\"gridcolor\":\"white\",\"linecolor\":\"white\",\"ticks\":\"\"}},\"coloraxis\":{\"colorbar\":{\"outlinewidth\":0,\"ticks\":\"\"}},\"colorscale\":{\"sequential\":[[0.0,\"#0d0887\"],[0.1111111111111111,\"#46039f\"],[0.2222222222222222,\"#7201a8\"],[0.3333333333333333,\"#9c179e\"],[0.4444444444444444,\"#bd3786\"],[0.5555555555555556,\"#d8576b\"],[0.6666666666666666,\"#ed7953\"],[0.7777777777777778,\"#fb9f3a\"],[0.8888888888888888,\"#fdca26\"],[1.0,\"#f0f921\"]],\"sequentialminus\":[[0.0,\"#0d0887\"],[0.1111111111111111,\"#46039f\"],[0.2222222222222222,\"#7201a8\"],[0.3333333333333333,\"#9c179e\"],[0.4444444444444444,\"#bd3786\"],[0.5555555555555556,\"#d8576b\"],[0.6666666666666666,\"#ed7953\"],[0.7777777777777778,\"#fb9f3a\"],[0.8888888888888888,\"#fdca26\"],[1.0,\"#f0f921\"]],\"diverging\":[[0,\"#8e0152\"],[0.1,\"#c51b7d\"],[0.2,\"#de77ae\"],[0.3,\"#f1b6da\"],[0.4,\"#fde0ef\"],[0.5,\"#f7f7f7\"],[0.6,\"#e6f5d0\"],[0.7,\"#b8e186\"],[0.8,\"#7fbc41\"],[0.9,\"#4d9221\"],[1,\"#276419\"]]},\"xaxis\":{\"gridcolor\":\"white\",\"linecolor\":\"white\",\"ticks\":\"\",\"title\":{\"standoff\":15},\"zerolinecolor\":\"white\",\"automargin\":true,\"zerolinewidth\":2},\"yaxis\":{\"gridcolor\":\"white\",\"linecolor\":\"white\",\"ticks\":\"\",\"title\":{\"standoff\":15},\"zerolinecolor\":\"white\",\"automargin\":true,\"zerolinewidth\":2},\"scene\":{\"xaxis\":{\"backgroundcolor\":\"#E5ECF6\",\"gridcolor\":\"white\",\"linecolor\":\"white\",\"showbackground\":true,\"ticks\":\"\",\"zerolinecolor\":\"white\",\"gridwidth\":2},\"yaxis\":{\"backgroundcolor\":\"#E5ECF6\",\"gridcolor\":\"white\",\"linecolor\":\"white\",\"showbackground\":true,\"ticks\":\"\",\"zerolinecolor\":\"white\",\"gridwidth\":2},\"zaxis\":{\"backgroundcolor\":\"#E5ECF6\",\"gridcolor\":\"white\",\"linecolor\":\"white\",\"showbackground\":true,\"ticks\":\"\",\"zerolinecolor\":\"white\",\"gridwidth\":2}},\"shapedefaults\":{\"line\":{\"color\":\"#2a3f5f\"}},\"annotationdefaults\":{\"arrowcolor\":\"#2a3f5f\",\"arrowhead\":0,\"arrowwidth\":1},\"geo\":{\"bgcolor\":\"white\",\"landcolor\":\"#E5ECF6\",\"subunitcolor\":\"white\",\"showland\":true,\"showlakes\":true,\"lakecolor\":\"white\"},\"title\":{\"x\":0.05},\"mapbox\":{\"style\":\"light\"}}},\"xaxis\":{\"title\":{\"text\":\"Fold\"},\"gridcolor\":\"lightgray\",\"tickmode\":\"linear\",\"tick0\":1,\"dtick\":1,\"range\":[0.5,5.5]},\"yaxis\":{\"title\":{\"text\":\"RMSE Score\"},\"gridcolor\":\"lightgray\"},\"title\":{\"text\":\"LightGBM w\\u002f OOF Predictions | Cross-Validation RMSE Scores | Variation of CV scores: 0.449 ± 0.005\"},\"plot_bgcolor\":\"rgba(0,0,0,0)\",\"paper_bgcolor\":\"rgba(0,0,0,0)\"},                        {\"responsive\": true}                    ).then(function(){\n",
       "                            \n",
       "var gd = document.getElementById('1a421dc6-739b-4641-9612-7f325fd19ef1');\n",
       "var x = new MutationObserver(function (mutations, observer) {{\n",
       "        var display = window.getComputedStyle(gd).display;\n",
       "        if (!display || display === 'none') {{\n",
       "            console.log([gd, 'removed!']);\n",
       "            Plotly.purge(gd);\n",
       "            observer.disconnect();\n",
       "        }}\n",
       "}});\n",
       "\n",
       "// Listen for the removal of the full notebook cells\n",
       "var notebookContainer = gd.closest('#notebook-container');\n",
       "if (notebookContainer) {{\n",
       "    x.observe(notebookContainer, {childList: true});\n",
       "}}\n",
       "\n",
       "// Listen for the clearing of the current output cell\n",
       "var outputEl = gd.closest('.output');\n",
       "if (outputEl) {{\n",
       "    x.observe(outputEl, {childList: true});\n",
       "}}\n",
       "\n",
       "                        })                };                });            </script>        </div>"
      ]
     },
     "metadata": {},
     "output_type": "display_data"
    }
   ],
   "source": [
    "inference_server = kaggle_evaluation.mcts_inference_server.MCTSInferenceServer(predict)\n",
    "\n",
    "if os.getenv('KAGGLE_IS_COMPETITION_RERUN'):\n",
    "    inference_server.serve()\n",
    "else:\n",
    "    inference_server.run_local_gateway(\n",
    "        (\n",
    "            '/kaggle/input/um-game-playing-strength-of-mcts-variants/test.csv',\n",
    "            '/kaggle/input/um-game-playing-strength-of-mcts-variants/sample_submission.csv'\n",
    "        )\n",
    "    )"
   ]
  }
 ],
 "metadata": {
  "kaggle": {
   "accelerator": "none",
   "dataSources": [
    {
     "databundleVersionId": 9515283,
     "sourceId": 70089,
     "sourceType": "competition"
    },
    {
     "sourceId": 197802518,
     "sourceType": "kernelVersion"
    },
    {
     "sourceId": 198170908,
     "sourceType": "kernelVersion"
    }
   ],
   "dockerImageVersionId": 30775,
   "isGpuEnabled": false,
   "isInternetEnabled": false,
   "language": "python",
   "sourceType": "notebook"
  },
  "kernelspec": {
   "display_name": "Python 3",
   "language": "python",
   "name": "python3"
  },
  "language_info": {
   "codemirror_mode": {
    "name": "ipython",
    "version": 3
   },
   "file_extension": ".py",
   "mimetype": "text/x-python",
   "name": "python",
   "nbconvert_exporter": "python",
   "pygments_lexer": "ipython3",
   "version": "3.10.14"
  },
  "papermill": {
   "default_parameters": {},
   "duration": 12476.244937,
   "end_time": "2024-10-12T10:00:40.282262",
   "environment_variables": {},
   "exception": null,
   "input_path": "__notebook__.ipynb",
   "output_path": "__notebook__.ipynb",
   "parameters": {},
   "start_time": "2024-10-12T06:32:44.037325",
   "version": "2.6.0"
  }
 },
 "nbformat": 4,
 "nbformat_minor": 5
}
