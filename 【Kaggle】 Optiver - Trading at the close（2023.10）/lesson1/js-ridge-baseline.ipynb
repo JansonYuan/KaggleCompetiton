{
 "cells": [
  {
   "cell_type": "code",
   "execution_count": 3,
   "metadata": {},
   "outputs": [],
   "source": [
    "#necessary\n",
    "import polars as pl#similar to pandas, but with better performance when dealing with large datasets.\n",
    "import pandas as pd#read csv,parquet\n",
    "import numpy as np#for scientific computation of matrices\n",
    "#model\n",
    "from sklearn.linear_model import Ridge\n",
    "import os#Libraries that interact with the operating system\n",
    "import warnings#avoid some negligible errors\n",
    "#The filterwarnings () method is used to set warning filters, which can control the output method and level of warning information.\n",
    "warnings.filterwarnings('ignore')\n",
    "\n",
    "import random#provides some functions for generating random numbers\n",
    "#set random seed,make sure model can be recurrented.\n",
    "def seed_everything(seed):\n",
    "    np.random.seed(seed)#numpy random seed\n",
    "    random.seed(seed)#python built-in random seed\n",
    "seed_everything(seed=2025)"
   ]
  },
  {
   "cell_type": "code",
   "execution_count": null,
   "metadata": {},
   "outputs": [],
   "source": [
    "def custom_metric(y_true,y_pred,weight):\n",
    "    weighted_r2=1-(np.sum(weight*(y_true-y_pred)**2)/np.sum(weight*y_true**2))\n",
    "    return weighted_r2\n",
    "    \n",
    "print(\"< read parquet >\")\n",
    "datas=[]\n",
    "for i in range(7,10):\n",
    "    train=pl.read_parquet(f\"./train.parquet/partition_id={i}/part-0.parquet\")\n",
    "    train=train.to_pandas()\n",
    "    datas.append(train)\n",
    "train=pd.concat(datas)\n",
    "print(f\"train.shape:{train.shape}\")\n",
    "\n",
    "print(\"< get X,y >\")\n",
    "cols=[f'feature_0{i}' if i<10 else f'feature_{i}' for i in range(79)]\n",
    "X=train[cols].fillna(3).values\n",
    "y=train['responder_6'].values\n",
    "\n",
    "print(\"< train test split >\")\n",
    "split=1300000#around 10%\n",
    "weights=train['weight'].values\n",
    "train_X,train_y,test_X,test_y,train_weight,test_weight=X[:-split],y[:-split],X[-split:],y[-split:],weights[:-split],weights[-split:]\n",
    "print(f\"train_X.shape:{train_X.shape},test_X.shape:{test_X.shape}\")\n",
    "\n",
    "print(\"< fit and predict >\")\n",
    "model=Ridge()\n",
    "model.fit(train_X,train_y)\n",
    "train_pred=model.predict(train_X)\n",
    "test_pred=model.predict(test_X)\n",
    "print(f\"train weighted_r2:{custom_metric(train_y,train_pred,weight=train_weight)}\")\n",
    "print(f\"test weighted_r2:{custom_metric(test_y,test_pred,weight=test_weight)}\")"
   ]
  },
  {
   "cell_type": "code",
   "execution_count": null,
   "metadata": {},
   "outputs": [],
   "source": []
  },
  {
   "cell_type": "code",
   "execution_count": null,
   "metadata": {},
   "outputs": [],
   "source": []
  }
 ],
 "metadata": {
  "kernelspec": {
   "display_name": "python3.10",
   "language": "python",
   "name": "python3"
  },
  "language_info": {
   "codemirror_mode": {
    "name": "ipython",
    "version": 3
   },
   "file_extension": ".py",
   "mimetype": "text/x-python",
   "name": "python",
   "nbconvert_exporter": "python",
   "pygments_lexer": "ipython3",
   "version": "3.10.15"
  }
 },
 "nbformat": 4,
 "nbformat_minor": 2
}
