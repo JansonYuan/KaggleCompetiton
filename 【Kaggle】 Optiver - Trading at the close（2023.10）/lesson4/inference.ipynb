{
 "cells": [
  {
   "cell_type": "code",
   "execution_count": 1,
   "id": "1eb23852",
   "metadata": {
    "execution": {
     "iopub.execute_input": "2024-12-14T11:08:38.079297Z",
     "iopub.status.busy": "2024-12-14T11:08:38.078497Z",
     "iopub.status.idle": "2024-12-14T11:08:59.092445Z",
     "shell.execute_reply": "2024-12-14T11:08:59.091786Z"
    },
    "papermill": {
     "duration": 21.019808,
     "end_time": "2024-12-14T11:08:59.094402",
     "exception": false,
     "start_time": "2024-12-14T11:08:38.074594",
     "status": "completed"
    },
    "tags": []
   },
   "outputs": [],
   "source": [
    "import pandas as pd\n",
    "import polars as pl\n",
    "import numpy as np\n",
    "import os, gc\n",
    "from tqdm.auto import tqdm\n",
    "from matplotlib import pyplot as plt\n",
    "import pickle\n",
    "\n",
    "import torch\n",
    "import torch.nn as nn\n",
    "import torch.nn.functional as F\n",
    "from pytorch_lightning import (LightningDataModule, LightningModule, Trainer)\n",
    "from pytorch_lightning.callbacks import EarlyStopping, ModelCheckpoint, Timer\n",
    "\n",
    "import pandas as pd\n",
    "import numpy as np\n",
    "from sklearn.metrics import r2_score\n",
    "from sklearn.model_selection import train_test_split\n",
    "from torch.utils.data import Dataset, DataLoader\n",
    "\n",
    "\n",
    "from sklearn.metrics import r2_score\n",
    "from lightgbm import LGBMRegressor\n",
    "import lightgbm as lgb\n",
    "from xgboost import XGBRegressor\n",
    "from catboost import CatBoostRegressor\n",
    "from sklearn.ensemble import VotingRegressor\n",
    "\n",
    "import warnings\n",
    "warnings.filterwarnings('ignore')\n",
    "pd.options.display.max_columns = None\n",
    "\n",
    "import kaggle_evaluation.jane_street_inference_server"
   ]
  },
  {
   "cell_type": "markdown",
   "id": "4cbeab45",
   "metadata": {
    "papermill": {
     "duration": 0.004468,
     "end_time": "2024-12-14T11:08:59.102512",
     "exception": false,
     "start_time": "2024-12-14T11:08:59.098044",
     "status": "completed"
    },
    "tags": []
   },
   "source": [
    "# Configurations"
   ]
  },
  {
   "cell_type": "code",
   "execution_count": 2,
   "id": "e486aec8",
   "metadata": {
    "execution": {
     "iopub.execute_input": "2024-12-14T11:08:59.110378Z",
     "iopub.status.busy": "2024-12-14T11:08:59.109874Z",
     "iopub.status.idle": "2024-12-14T11:08:59.114466Z",
     "shell.execute_reply": "2024-12-14T11:08:59.113822Z"
    },
    "papermill": {
     "duration": 0.010221,
     "end_time": "2024-12-14T11:08:59.116025",
     "exception": false,
     "start_time": "2024-12-14T11:08:59.105804",
     "status": "completed"
    },
    "tags": []
   },
   "outputs": [],
   "source": [
    "class CONFIG:\n",
    "    seed = 42\n",
    "    target_col = \"responder_6\"\n",
    "    # feature_cols = [\"symbol_id\", \"time_id\"] + [f\"feature_{idx:02d}\" for idx in range(79)]+ [f\"responder_{idx}_lag_1\" for idx in range(9)]\n",
    "    feature_cols = [f\"feature_{idx:02d}\" for idx in range(79)]+ [f\"responder_{idx}_lag_1\" for idx in range(9)]\n",
    "    \n",
    "    model_paths = [\n",
    "        \"/kaggle/input/js-mlp-exp1/JS_MLP_exp1\",\n",
    "    ]"
   ]
  },
  {
   "cell_type": "markdown",
   "id": "a0f331a1",
   "metadata": {
    "papermill": {
     "duration": 0.003111,
     "end_time": "2024-12-14T11:08:59.122459",
     "exception": false,
     "start_time": "2024-12-14T11:08:59.119348",
     "status": "completed"
    },
    "tags": []
   },
   "source": [
    "# Load preprocessed data (to calculate CV)"
   ]
  },
  {
   "cell_type": "code",
   "execution_count": 3,
   "id": "3ec44bc0",
   "metadata": {
    "execution": {
     "iopub.execute_input": "2024-12-14T11:08:59.129896Z",
     "iopub.status.busy": "2024-12-14T11:08:59.129678Z",
     "iopub.status.idle": "2024-12-14T11:09:01.608253Z",
     "shell.execute_reply": "2024-12-14T11:09:01.607302Z"
    },
    "papermill": {
     "duration": 2.484462,
     "end_time": "2024-12-14T11:09:01.610352",
     "exception": false,
     "start_time": "2024-12-14T11:08:59.125890",
     "status": "completed"
    },
    "tags": []
   },
   "outputs": [],
   "source": [
    "valid = pl.scan_parquet(\n",
    "    f\"/kaggle/input/js24-preprocessing-create-lags/validation.parquet/\"\n",
    ").collect().to_pandas()"
   ]
  },
  {
   "cell_type": "markdown",
   "id": "4d6cade5",
   "metadata": {
    "papermill": {
     "duration": 0.003204,
     "end_time": "2024-12-14T11:09:01.617279",
     "exception": false,
     "start_time": "2024-12-14T11:09:01.614075",
     "status": "completed"
    },
    "tags": []
   },
   "source": [
    "# Load model"
   ]
  },
  {
   "cell_type": "code",
   "execution_count": 4,
   "id": "8830cd66",
   "metadata": {
    "execution": {
     "iopub.execute_input": "2024-12-14T11:09:01.626169Z",
     "iopub.status.busy": "2024-12-14T11:09:01.625921Z",
     "iopub.status.idle": "2024-12-14T11:09:01.639657Z",
     "shell.execute_reply": "2024-12-14T11:09:01.638920Z"
    },
    "papermill": {
     "duration": 0.020573,
     "end_time": "2024-12-14T11:09:01.641479",
     "exception": false,
     "start_time": "2024-12-14T11:09:01.620906",
     "status": "completed"
    },
    "tags": []
   },
   "outputs": [],
   "source": [
    "# Custom R2 metric for validation\n",
    "def r2_val(y_true, y_pred, sample_weight):\n",
    "    r2 = 1 - np.average((y_pred - y_true) ** 2, weights=sample_weight) / (np.average((y_true) ** 2, weights=sample_weight) + 1e-38)\n",
    "    return r2\n",
    "\n",
    "\n",
    "class NN(LightningModule):\n",
    "    def __init__(self, input_dim, hidden_dims, dropouts, lr, weight_decay):\n",
    "        super().__init__()\n",
    "        self.save_hyperparameters()\n",
    "        layers = []\n",
    "        in_dim = input_dim\n",
    "        for i, hidden_dim in enumerate(hidden_dims):\n",
    "            layers.append(nn.BatchNorm1d(in_dim))\n",
    "            if i > 0:\n",
    "                layers.append(nn.SiLU())\n",
    "            if i < len(dropouts):\n",
    "                layers.append(nn.Dropout(dropouts[i]))\n",
    "            layers.append(nn.Linear(in_dim, hidden_dim))\n",
    "            # layers.append(nn.ReLU())\n",
    "            in_dim = hidden_dim\n",
    "        layers.append(nn.Linear(in_dim, 1))  # 输出层\n",
    "        layers.append(nn.Tanh())\n",
    "        self.model = nn.Sequential(*layers)\n",
    "        self.lr = lr\n",
    "        self.weight_decay = weight_decay\n",
    "        self.validation_step_outputs = []\n",
    "\n",
    "    def forward(self, x):\n",
    "        return 5 * self.model(x).squeeze(-1)  # 输出为一维张量\n",
    "\n",
    "    def training_step(self, batch):\n",
    "        x, y, w = batch\n",
    "        y_hat = self(x)\n",
    "        loss = F.mse_loss(y_hat, y, reduction='none') * w  # 考虑样本权重\n",
    "        loss = loss.mean()\n",
    "        self.log('train_loss', loss, on_step=False, on_epoch=True, batch_size=x.size(0))\n",
    "        return loss\n",
    "\n",
    "    def validation_step(self, batch):\n",
    "        x, y, w = batch\n",
    "        y_hat = self(x)\n",
    "        loss = F.mse_loss(y_hat, y, reduction='none') * w\n",
    "        loss = loss.mean()\n",
    "        self.log('val_loss', loss, on_step=False, on_epoch=True, batch_size=x.size(0))\n",
    "        self.validation_step_outputs.append((y_hat, y, w))\n",
    "        return loss\n",
    "\n",
    "    def on_validation_epoch_end(self):\n",
    "        \"\"\"Calculate validation WRMSE at the end of the epoch.\"\"\"\n",
    "        y = torch.cat([x[1] for x in self.validation_step_outputs]).cpu().numpy()\n",
    "        if self.trainer.sanity_checking:\n",
    "            prob = torch.cat([x[0] for x in self.validation_step_outputs]).cpu().numpy()\n",
    "        else:\n",
    "            prob = torch.cat([x[0] for x in self.validation_step_outputs]).cpu().numpy()\n",
    "            weights = torch.cat([x[2] for x in self.validation_step_outputs]).cpu().numpy()\n",
    "            # r2_val\n",
    "            val_r_square = r2_val(y, prob, weights)\n",
    "            self.log(\"val_r_square\", val_r_square, prog_bar=True, on_step=False, on_epoch=True)\n",
    "        self.validation_step_outputs.clear()\n",
    "\n",
    "    def configure_optimizers(self):\n",
    "        optimizer = torch.optim.Adam(self.parameters(), lr=self.lr, weight_decay=self.weight_decay)\n",
    "        scheduler = torch.optim.lr_scheduler.ReduceLROnPlateau(optimizer, mode='min', factor=0.5, patience=5,\n",
    "                                                               verbose=True)\n",
    "        return {\n",
    "            'optimizer': optimizer,\n",
    "            'lr_scheduler': {\n",
    "                'scheduler': scheduler,\n",
    "                'monitor': 'val_loss',\n",
    "            }\n",
    "        }\n",
    "\n",
    "    def on_train_epoch_end(self):\n",
    "        if self.trainer.sanity_checking:\n",
    "            return\n",
    "        epoch = self.trainer.current_epoch\n",
    "        metrics = {k: v.item() if isinstance(v, torch.Tensor) else v for k, v in self.trainer.logged_metrics.items()}\n",
    "        formatted_metrics = {k: f\"{v:.5f}\" for k, v in metrics.items()}\n",
    "        print(f\"Epoch {epoch}: {formatted_metrics}\")"
   ]
  },
  {
   "cell_type": "code",
   "execution_count": 5,
   "id": "7307322d",
   "metadata": {
    "execution": {
     "iopub.execute_input": "2024-12-14T11:09:01.649144Z",
     "iopub.status.busy": "2024-12-14T11:09:01.648908Z",
     "iopub.status.idle": "2024-12-14T11:09:02.811776Z",
     "shell.execute_reply": "2024-12-14T11:09:02.810857Z"
    },
    "papermill": {
     "duration": 1.168932,
     "end_time": "2024-12-14T11:09:02.813812",
     "exception": false,
     "start_time": "2024-12-14T11:09:01.644880",
     "status": "completed"
    },
    "tags": []
   },
   "outputs": [],
   "source": [
    "N_folds = 5\n",
    "# 加载最佳模型\n",
    "models = []\n",
    "for fold in range(N_folds):\n",
    "    checkpoint_path = f\"{CONFIG.model_paths[0]}/nn_{fold}.model.ckpt\"\n",
    "    model = NN.load_from_checkpoint(checkpoint_path)\n",
    "    models.append(model.to(\"cuda:0\"))"
   ]
  },
  {
   "cell_type": "code",
   "execution_count": 6,
   "id": "43cd9663",
   "metadata": {
    "execution": {
     "iopub.execute_input": "2024-12-14T11:09:02.821865Z",
     "iopub.status.busy": "2024-12-14T11:09:02.821579Z",
     "iopub.status.idle": "2024-12-14T11:09:02.827444Z",
     "shell.execute_reply": "2024-12-14T11:09:02.826687Z"
    },
    "papermill": {
     "duration": 0.01203,
     "end_time": "2024-12-14T11:09:02.829337",
     "exception": false,
     "start_time": "2024-12-14T11:09:02.817307",
     "status": "completed"
    },
    "tags": []
   },
   "outputs": [
    {
     "data": {
      "text/plain": [
       "NN(\n",
       "  (model): Sequential(\n",
       "    (0): BatchNorm1d(88, eps=1e-05, momentum=0.1, affine=True, track_running_stats=True)\n",
       "    (1): Dropout(p=0.1, inplace=False)\n",
       "    (2): Linear(in_features=88, out_features=512, bias=True)\n",
       "    (3): BatchNorm1d(512, eps=1e-05, momentum=0.1, affine=True, track_running_stats=True)\n",
       "    (4): SiLU()\n",
       "    (5): Dropout(p=0.1, inplace=False)\n",
       "    (6): Linear(in_features=512, out_features=512, bias=True)\n",
       "    (7): BatchNorm1d(512, eps=1e-05, momentum=0.1, affine=True, track_running_stats=True)\n",
       "    (8): SiLU()\n",
       "    (9): Linear(in_features=512, out_features=256, bias=True)\n",
       "    (10): Linear(in_features=256, out_features=1, bias=True)\n",
       "    (11): Tanh()\n",
       "  )\n",
       ")"
      ]
     },
     "execution_count": 6,
     "metadata": {},
     "output_type": "execute_result"
    }
   ],
   "source": [
    "models[0]"
   ]
  },
  {
   "cell_type": "markdown",
   "id": "b3ee181c",
   "metadata": {
    "papermill": {
     "duration": 0.003167,
     "end_time": "2024-12-14T11:09:02.836256",
     "exception": false,
     "start_time": "2024-12-14T11:09:02.833089",
     "status": "completed"
    },
    "tags": []
   },
   "source": [
    "# CV Score"
   ]
  },
  {
   "cell_type": "code",
   "execution_count": 7,
   "id": "807053cc",
   "metadata": {
    "execution": {
     "iopub.execute_input": "2024-12-14T11:09:02.844123Z",
     "iopub.status.busy": "2024-12-14T11:09:02.843898Z",
     "iopub.status.idle": "2024-12-14T11:09:04.870297Z",
     "shell.execute_reply": "2024-12-14T11:09:04.869347Z"
    },
    "papermill": {
     "duration": 2.032544,
     "end_time": "2024-12-14T11:09:04.872229",
     "exception": false,
     "start_time": "2024-12-14T11:09:02.839685",
     "status": "completed"
    },
    "tags": []
   },
   "outputs": [
    {
     "data": {
      "text/plain": [
       "((1082224, 88), (1082224,), (1082224,))"
      ]
     },
     "execution_count": 7,
     "metadata": {},
     "output_type": "execute_result"
    }
   ],
   "source": [
    "X_valid = valid[ CONFIG.feature_cols ]\n",
    "y_valid = valid[ CONFIG.target_col ]\n",
    "w_valid = valid[ \"weight\" ]\n",
    "X_valid = X_valid.fillna(method = 'ffill').fillna(0)\n",
    "X_valid.shape, y_valid.shape, w_valid.shape"
   ]
  },
  {
   "cell_type": "code",
   "execution_count": 8,
   "id": "5d08ec08",
   "metadata": {
    "execution": {
     "iopub.execute_input": "2024-12-14T11:09:04.880639Z",
     "iopub.status.busy": "2024-12-14T11:09:04.880381Z",
     "iopub.status.idle": "2024-12-14T11:09:11.682582Z",
     "shell.execute_reply": "2024-12-14T11:09:11.681668Z"
    },
    "papermill": {
     "duration": 6.80867,
     "end_time": "2024-12-14T11:09:11.684582",
     "exception": false,
     "start_time": "2024-12-14T11:09:04.875912",
     "status": "completed"
    },
    "tags": []
   },
   "outputs": [
    {
     "data": {
      "text/plain": [
       "0.010973322548574194"
      ]
     },
     "execution_count": 8,
     "metadata": {},
     "output_type": "execute_result"
    }
   ],
   "source": [
    "y_pred_valid = np.zeros(y_valid.shape)\n",
    "with torch.no_grad():\n",
    "    for model in models:\n",
    "        model.eval()\n",
    "        y_pred_valid += model(torch.FloatTensor(X_valid.values).to(\"cuda:0\")).cpu().numpy() / len(models)\n",
    "valid_score = r2_score( y_valid, y_pred_valid, sample_weight=w_valid )\n",
    "valid_score"
   ]
  },
  {
   "cell_type": "code",
   "execution_count": 9,
   "id": "d3bd2b7e",
   "metadata": {
    "execution": {
     "iopub.execute_input": "2024-12-14T11:09:11.693872Z",
     "iopub.status.busy": "2024-12-14T11:09:11.693539Z",
     "iopub.status.idle": "2024-12-14T11:09:11.895174Z",
     "shell.execute_reply": "2024-12-14T11:09:11.894313Z"
    },
    "papermill": {
     "duration": 0.208155,
     "end_time": "2024-12-14T11:09:11.896893",
     "exception": false,
     "start_time": "2024-12-14T11:09:11.688738",
     "status": "completed"
    },
    "tags": []
   },
   "outputs": [
    {
     "data": {
      "text/plain": [
       "78"
      ]
     },
     "execution_count": 9,
     "metadata": {},
     "output_type": "execute_result"
    }
   ],
   "source": [
    "del valid, X_valid, y_valid, w_valid\n",
    "gc.collect()"
   ]
  },
  {
   "cell_type": "markdown",
   "id": "b0e985f7",
   "metadata": {
    "papermill": {
     "duration": 0.003512,
     "end_time": "2024-12-14T11:09:11.904300",
     "exception": false,
     "start_time": "2024-12-14T11:09:11.900788",
     "status": "completed"
    },
    "tags": []
   },
   "source": [
    "#### There seems to be bug in official code, can only submit polars dataframe"
   ]
  },
  {
   "cell_type": "code",
   "execution_count": 10,
   "id": "ccfa4ad6",
   "metadata": {
    "_cell_guid": "b1076dfc-b9ad-4769-8c92-a6c4dae69d19",
    "_uuid": "8f2839f25d086af736a60e9eeb907d3b93b6e0e5",
    "execution": {
     "iopub.execute_input": "2024-12-14T11:09:11.912708Z",
     "iopub.status.busy": "2024-12-14T11:09:11.912422Z",
     "iopub.status.idle": "2024-12-14T11:09:11.920991Z",
     "shell.execute_reply": "2024-12-14T11:09:11.920185Z"
    },
    "papermill": {
     "duration": 0.014711,
     "end_time": "2024-12-14T11:09:11.922511",
     "exception": false,
     "start_time": "2024-12-14T11:09:11.907800",
     "status": "completed"
    },
    "tags": []
   },
   "outputs": [],
   "source": [
    "lags_ : pl.DataFrame | None = None\n",
    "    \n",
    "def predict(test: pl.DataFrame, lags: pl.DataFrame | None) -> pl.DataFrame | pd.DataFrame:\n",
    "    global lags_\n",
    "    if lags is not None:\n",
    "        lags_ = lags\n",
    "\n",
    "    predictions = test.select(\n",
    "        'row_id',\n",
    "        pl.lit(0.0).alias('responder_6'),\n",
    "    )\n",
    "    symbol_ids = test.select('symbol_id').to_numpy()[:, 0]\n",
    "\n",
    "    if not lags is None:\n",
    "        lags = lags.group_by([\"date_id\", \"symbol_id\"], maintain_order=True).last() # pick up last record of previous date\n",
    "        test = test.join(lags, on=[\"date_id\", \"symbol_id\"],  how=\"left\")\n",
    "        # print(a)\n",
    "    else:\n",
    "        test = test.with_columns(\n",
    "            ( pl.lit(0.0).alias(f'responder_{idx}_lag_1') for idx in range(9) )\n",
    "        )\n",
    "    \n",
    "    preds = np.zeros((test.shape[0],))\n",
    "    # for i, model in enumerate(tqdm(models)):\n",
    "    #     preds += model.predict(test[CONFIG.feature_cols].to_pandas()) / len(models)\n",
    "    test_input = test[CONFIG.feature_cols].to_pandas()\n",
    "    test_input = test_input.fillna(method = 'ffill').fillna(0)\n",
    "    test_input = torch.FloatTensor(test_input.values).to(\"cuda:0\")\n",
    "    with torch.no_grad():\n",
    "        for i, nn_model in enumerate(tqdm(models)):\n",
    "            nn_model.eval()\n",
    "            preds += nn_model(test_input).cpu().numpy() / len(models)\n",
    "    print(f\"predict> preds.shape =\", preds.shape)\n",
    "    \n",
    "    predictions = \\\n",
    "    test.select('row_id').\\\n",
    "    with_columns(\n",
    "        pl.Series(\n",
    "            name   = 'responder_6', \n",
    "            values = np.clip(preds, a_min = -5, a_max = 5),\n",
    "            dtype  = pl.Float64,\n",
    "        )\n",
    "    )\n",
    "\n",
    "    # The predict function must return a DataFrame\n",
    "    assert isinstance(predictions, pl.DataFrame | pd.DataFrame)\n",
    "    # with columns 'row_id', 'responer_6'\n",
    "    assert list(predictions.columns) == ['row_id', 'responder_6']\n",
    "    # and as many rows as the test data.\n",
    "    assert len(predictions) == len(test)\n",
    "\n",
    "    return predictions"
   ]
  },
  {
   "cell_type": "markdown",
   "id": "3ddb4d6a",
   "metadata": {
    "papermill": {
     "duration": 0.003444,
     "end_time": "2024-12-14T11:09:11.929796",
     "exception": false,
     "start_time": "2024-12-14T11:09:11.926352",
     "status": "completed"
    },
    "tags": []
   },
   "source": [
    "When your notebook is run on the hidden test set, inference_server.serve must be called within 15 minutes of the notebook starting or the gateway will throw an error. If you need more than 15 minutes to load your model you can do so during the very first `predict` call, which does not have the usual 10 minute response deadline."
   ]
  },
  {
   "cell_type": "code",
   "execution_count": 11,
   "id": "c281044e",
   "metadata": {
    "_cell_guid": "b1076dfc-b9ad-4769-8c92-a6c4dae69d19",
    "_uuid": "8f2839f25d086af736a60e9eeb907d3b93b6e0e5",
    "execution": {
     "iopub.execute_input": "2024-12-14T11:09:11.938473Z",
     "iopub.status.busy": "2024-12-14T11:09:11.937705Z",
     "iopub.status.idle": "2024-12-14T11:09:12.335245Z",
     "shell.execute_reply": "2024-12-14T11:09:12.334309Z"
    },
    "papermill": {
     "duration": 0.403607,
     "end_time": "2024-12-14T11:09:12.337021",
     "exception": false,
     "start_time": "2024-12-14T11:09:11.933414",
     "status": "completed"
    },
    "tags": []
   },
   "outputs": [
    {
     "data": {
      "application/vnd.jupyter.widget-view+json": {
       "model_id": "d7d474a6260647d796d48e4b55c31408",
       "version_major": 2,
       "version_minor": 0
      },
      "text/plain": [
       "  0%|          | 0/5 [00:00<?, ?it/s]"
      ]
     },
     "metadata": {},
     "output_type": "display_data"
    },
    {
     "name": "stdout",
     "output_type": "stream",
     "text": [
      "predict> preds.shape = (39,)\n"
     ]
    }
   ],
   "source": [
    "inference_server = kaggle_evaluation.jane_street_inference_server.JSInferenceServer(predict)\n",
    "\n",
    "if os.getenv('KAGGLE_IS_COMPETITION_RERUN'):\n",
    "    inference_server.serve()\n",
    "else:\n",
    "    inference_server.run_local_gateway(\n",
    "        (\n",
    "            '/kaggle/input/jane-street-realtime-marketdata-forecasting/test.parquet',\n",
    "            '/kaggle/input/jane-street-realtime-marketdata-forecasting/lags.parquet',\n",
    "        )\n",
    "    )"
   ]
  },
  {
   "cell_type": "code",
   "execution_count": null,
   "id": "89ce7bf9",
   "metadata": {
    "papermill": {
     "duration": 0.003687,
     "end_time": "2024-12-14T11:09:12.344959",
     "exception": false,
     "start_time": "2024-12-14T11:09:12.341272",
     "status": "completed"
    },
    "tags": []
   },
   "outputs": [],
   "source": []
  }
 ],
 "metadata": {
  "kaggle": {
   "accelerator": "nvidiaTeslaT4",
   "dataSources": [
    {
     "databundleVersionId": 9871156,
     "sourceId": 84493,
     "sourceType": "competition"
    },
    {
     "datasetId": 6010899,
     "sourceId": 9806342,
     "sourceType": "datasetVersion"
    },
    {
     "datasetId": 6301563,
     "sourceId": 10198236,
     "sourceType": "datasetVersion"
    },
    {
     "sourceId": 203900450,
     "sourceType": "kernelVersion"
    }
   ],
   "dockerImageVersionId": 30787,
   "isGpuEnabled": true,
   "isInternetEnabled": false,
   "language": "python",
   "sourceType": "notebook"
  },
  "kernelspec": {
   "display_name": "Python 3 (ipykernel)",
   "language": "python",
   "name": "python3"
  },
  "language_info": {
   "codemirror_mode": {
    "name": "ipython",
    "version": 3
   },
   "file_extension": ".py",
   "mimetype": "text/x-python",
   "name": "python",
   "nbconvert_exporter": "python",
   "pygments_lexer": "ipython3",
   "version": "3.10.13"
  },
  "papermill": {
   "default_parameters": {},
   "duration": 41.232843,
   "end_time": "2024-12-14T11:09:15.511891",
   "environment_variables": {},
   "exception": null,
   "input_path": "__notebook__.ipynb",
   "output_path": "__notebook__.ipynb",
   "parameters": {},
   "start_time": "2024-12-14T11:08:34.279048",
   "version": "2.6.0"
  },
  "widgets": {
   "application/vnd.jupyter.widget-state+json": {
    "state": {
     "0e4074d728c44835b54a0305b6962aa7": {
      "model_module": "@jupyter-widgets/controls",
      "model_module_version": "1.5.0",
      "model_name": "DescriptionStyleModel",
      "state": {
       "_model_module": "@jupyter-widgets/controls",
       "_model_module_version": "1.5.0",
       "_model_name": "DescriptionStyleModel",
       "_view_count": null,
       "_view_module": "@jupyter-widgets/base",
       "_view_module_version": "1.2.0",
       "_view_name": "StyleView",
       "description_width": ""
      }
     },
     "29899ba4fcab4f2c958a08f6e6572876": {
      "model_module": "@jupyter-widgets/base",
      "model_module_version": "1.2.0",
      "model_name": "LayoutModel",
      "state": {
       "_model_module": "@jupyter-widgets/base",
       "_model_module_version": "1.2.0",
       "_model_name": "LayoutModel",
       "_view_count": null,
       "_view_module": "@jupyter-widgets/base",
       "_view_module_version": "1.2.0",
       "_view_name": "LayoutView",
       "align_content": null,
       "align_items": null,
       "align_self": null,
       "border": null,
       "bottom": null,
       "display": null,
       "flex": null,
       "flex_flow": null,
       "grid_area": null,
       "grid_auto_columns": null,
       "grid_auto_flow": null,
       "grid_auto_rows": null,
       "grid_column": null,
       "grid_gap": null,
       "grid_row": null,
       "grid_template_areas": null,
       "grid_template_columns": null,
       "grid_template_rows": null,
       "height": null,
       "justify_content": null,
       "justify_items": null,
       "left": null,
       "margin": null,
       "max_height": null,
       "max_width": null,
       "min_height": null,
       "min_width": null,
       "object_fit": null,
       "object_position": null,
       "order": null,
       "overflow": null,
       "overflow_x": null,
       "overflow_y": null,
       "padding": null,
       "right": null,
       "top": null,
       "visibility": null,
       "width": null
      }
     },
     "2a1ecabeee0644dc8b6fc3ab87c02b44": {
      "model_module": "@jupyter-widgets/controls",
      "model_module_version": "1.5.0",
      "model_name": "ProgressStyleModel",
      "state": {
       "_model_module": "@jupyter-widgets/controls",
       "_model_module_version": "1.5.0",
       "_model_name": "ProgressStyleModel",
       "_view_count": null,
       "_view_module": "@jupyter-widgets/base",
       "_view_module_version": "1.2.0",
       "_view_name": "StyleView",
       "bar_color": null,
       "description_width": ""
      }
     },
     "6323f1b597a741a1905593730da3d16b": {
      "model_module": "@jupyter-widgets/controls",
      "model_module_version": "1.5.0",
      "model_name": "HTMLModel",
      "state": {
       "_dom_classes": [],
       "_model_module": "@jupyter-widgets/controls",
       "_model_module_version": "1.5.0",
       "_model_name": "HTMLModel",
       "_view_count": null,
       "_view_module": "@jupyter-widgets/controls",
       "_view_module_version": "1.5.0",
       "_view_name": "HTMLView",
       "description": "",
       "description_tooltip": null,
       "layout": "IPY_MODEL_c6a85b09890547dc950b7497b0d4b4f3",
       "placeholder": "​",
       "style": "IPY_MODEL_c399eedddd9b4641adf5a3d68cbe45d4",
       "value": " 5/5 [00:00&lt;00:00, 121.78it/s]"
      }
     },
     "a1b9580a8057431db55359b1f267313f": {
      "model_module": "@jupyter-widgets/base",
      "model_module_version": "1.2.0",
      "model_name": "LayoutModel",
      "state": {
       "_model_module": "@jupyter-widgets/base",
       "_model_module_version": "1.2.0",
       "_model_name": "LayoutModel",
       "_view_count": null,
       "_view_module": "@jupyter-widgets/base",
       "_view_module_version": "1.2.0",
       "_view_name": "LayoutView",
       "align_content": null,
       "align_items": null,
       "align_self": null,
       "border": null,
       "bottom": null,
       "display": null,
       "flex": null,
       "flex_flow": null,
       "grid_area": null,
       "grid_auto_columns": null,
       "grid_auto_flow": null,
       "grid_auto_rows": null,
       "grid_column": null,
       "grid_gap": null,
       "grid_row": null,
       "grid_template_areas": null,
       "grid_template_columns": null,
       "grid_template_rows": null,
       "height": null,
       "justify_content": null,
       "justify_items": null,
       "left": null,
       "margin": null,
       "max_height": null,
       "max_width": null,
       "min_height": null,
       "min_width": null,
       "object_fit": null,
       "object_position": null,
       "order": null,
       "overflow": null,
       "overflow_x": null,
       "overflow_y": null,
       "padding": null,
       "right": null,
       "top": null,
       "visibility": null,
       "width": null
      }
     },
     "a4c6457b43e6466387da45eae28cb95e": {
      "model_module": "@jupyter-widgets/controls",
      "model_module_version": "1.5.0",
      "model_name": "FloatProgressModel",
      "state": {
       "_dom_classes": [],
       "_model_module": "@jupyter-widgets/controls",
       "_model_module_version": "1.5.0",
       "_model_name": "FloatProgressModel",
       "_view_count": null,
       "_view_module": "@jupyter-widgets/controls",
       "_view_module_version": "1.5.0",
       "_view_name": "ProgressView",
       "bar_style": "success",
       "description": "",
       "description_tooltip": null,
       "layout": "IPY_MODEL_e6084a5205314a7cbdd49a47a7a72045",
       "max": 5,
       "min": 0,
       "orientation": "horizontal",
       "style": "IPY_MODEL_2a1ecabeee0644dc8b6fc3ab87c02b44",
       "value": 5
      }
     },
     "c399eedddd9b4641adf5a3d68cbe45d4": {
      "model_module": "@jupyter-widgets/controls",
      "model_module_version": "1.5.0",
      "model_name": "DescriptionStyleModel",
      "state": {
       "_model_module": "@jupyter-widgets/controls",
       "_model_module_version": "1.5.0",
       "_model_name": "DescriptionStyleModel",
       "_view_count": null,
       "_view_module": "@jupyter-widgets/base",
       "_view_module_version": "1.2.0",
       "_view_name": "StyleView",
       "description_width": ""
      }
     },
     "c6a85b09890547dc950b7497b0d4b4f3": {
      "model_module": "@jupyter-widgets/base",
      "model_module_version": "1.2.0",
      "model_name": "LayoutModel",
      "state": {
       "_model_module": "@jupyter-widgets/base",
       "_model_module_version": "1.2.0",
       "_model_name": "LayoutModel",
       "_view_count": null,
       "_view_module": "@jupyter-widgets/base",
       "_view_module_version": "1.2.0",
       "_view_name": "LayoutView",
       "align_content": null,
       "align_items": null,
       "align_self": null,
       "border": null,
       "bottom": null,
       "display": null,
       "flex": null,
       "flex_flow": null,
       "grid_area": null,
       "grid_auto_columns": null,
       "grid_auto_flow": null,
       "grid_auto_rows": null,
       "grid_column": null,
       "grid_gap": null,
       "grid_row": null,
       "grid_template_areas": null,
       "grid_template_columns": null,
       "grid_template_rows": null,
       "height": null,
       "justify_content": null,
       "justify_items": null,
       "left": null,
       "margin": null,
       "max_height": null,
       "max_width": null,
       "min_height": null,
       "min_width": null,
       "object_fit": null,
       "object_position": null,
       "order": null,
       "overflow": null,
       "overflow_x": null,
       "overflow_y": null,
       "padding": null,
       "right": null,
       "top": null,
       "visibility": null,
       "width": null
      }
     },
     "cfbda863cd3f440fab455fbfb3ccfb15": {
      "model_module": "@jupyter-widgets/controls",
      "model_module_version": "1.5.0",
      "model_name": "HTMLModel",
      "state": {
       "_dom_classes": [],
       "_model_module": "@jupyter-widgets/controls",
       "_model_module_version": "1.5.0",
       "_model_name": "HTMLModel",
       "_view_count": null,
       "_view_module": "@jupyter-widgets/controls",
       "_view_module_version": "1.5.0",
       "_view_name": "HTMLView",
       "description": "",
       "description_tooltip": null,
       "layout": "IPY_MODEL_a1b9580a8057431db55359b1f267313f",
       "placeholder": "​",
       "style": "IPY_MODEL_0e4074d728c44835b54a0305b6962aa7",
       "value": "100%"
      }
     },
     "d7d474a6260647d796d48e4b55c31408": {
      "model_module": "@jupyter-widgets/controls",
      "model_module_version": "1.5.0",
      "model_name": "HBoxModel",
      "state": {
       "_dom_classes": [],
       "_model_module": "@jupyter-widgets/controls",
       "_model_module_version": "1.5.0",
       "_model_name": "HBoxModel",
       "_view_count": null,
       "_view_module": "@jupyter-widgets/controls",
       "_view_module_version": "1.5.0",
       "_view_name": "HBoxView",
       "box_style": "",
       "children": [
        "IPY_MODEL_cfbda863cd3f440fab455fbfb3ccfb15",
        "IPY_MODEL_a4c6457b43e6466387da45eae28cb95e",
        "IPY_MODEL_6323f1b597a741a1905593730da3d16b"
       ],
       "layout": "IPY_MODEL_29899ba4fcab4f2c958a08f6e6572876"
      }
     },
     "e6084a5205314a7cbdd49a47a7a72045": {
      "model_module": "@jupyter-widgets/base",
      "model_module_version": "1.2.0",
      "model_name": "LayoutModel",
      "state": {
       "_model_module": "@jupyter-widgets/base",
       "_model_module_version": "1.2.0",
       "_model_name": "LayoutModel",
       "_view_count": null,
       "_view_module": "@jupyter-widgets/base",
       "_view_module_version": "1.2.0",
       "_view_name": "LayoutView",
       "align_content": null,
       "align_items": null,
       "align_self": null,
       "border": null,
       "bottom": null,
       "display": null,
       "flex": null,
       "flex_flow": null,
       "grid_area": null,
       "grid_auto_columns": null,
       "grid_auto_flow": null,
       "grid_auto_rows": null,
       "grid_column": null,
       "grid_gap": null,
       "grid_row": null,
       "grid_template_areas": null,
       "grid_template_columns": null,
       "grid_template_rows": null,
       "height": null,
       "justify_content": null,
       "justify_items": null,
       "left": null,
       "margin": null,
       "max_height": null,
       "max_width": null,
       "min_height": null,
       "min_width": null,
       "object_fit": null,
       "object_position": null,
       "order": null,
       "overflow": null,
       "overflow_x": null,
       "overflow_y": null,
       "padding": null,
       "right": null,
       "top": null,
       "visibility": null,
       "width": null
      }
     }
    },
    "version_major": 2,
    "version_minor": 0
   }
  }
 },
 "nbformat": 4,
 "nbformat_minor": 5
}
