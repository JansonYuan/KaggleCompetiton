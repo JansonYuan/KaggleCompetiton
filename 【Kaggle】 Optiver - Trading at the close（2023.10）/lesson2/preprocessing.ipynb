{
 "cells": [
  {
   "cell_type": "code",
   "execution_count": 1,
   "metadata": {},
   "outputs": [],
   "source": [
    "import pandas as pd\n",
    "import numpy as np\n",
    "import polars as pl\n",
    "import gc\n",
    "from matplotlib import pyplot as plt\n",
    "import matplotlib.cm as cm\n",
    "from sklearn.model_selection import StratifiedGroupKFold\n"
   ]
  },
  {
   "cell_type": "code",
   "execution_count": 2,
   "metadata": {},
   "outputs": [],
   "source": [
    "class CONFIG:\n",
    "    target_col = \"responder_6\"\n",
    "    lag_cols_original = [\"date_id\", \"symbol_id\"] + [f\"responder_{idx}\" for idx in range(9)]\n",
    "    lag_cols_rename = { f\"responder_{idx}\" : f\"responder_{idx}_lag_1\" for idx in range(9)}\n",
    "    valid_ratio = 0.05\n",
    "    start_dt = 900"
   ]
  },
  {
   "cell_type": "code",
   "execution_count": 3,
   "metadata": {},
   "outputs": [
    {
     "data": {
      "text/html": [
       "<div><style>\n",
       ".dataframe > thead > tr,\n",
       ".dataframe > tbody > tr {\n",
       "  text-align: right;\n",
       "  white-space: pre-wrap;\n",
       "}\n",
       "</style>\n",
       "<small>shape: (28_786_384, 95)</small><table border=\"1\" class=\"dataframe\"><thead><tr><th>id</th><th>date_id</th><th>time_id</th><th>symbol_id</th><th>weight</th><th>feature_00</th><th>feature_01</th><th>feature_02</th><th>feature_03</th><th>feature_04</th><th>feature_05</th><th>feature_06</th><th>feature_07</th><th>feature_08</th><th>feature_09</th><th>feature_10</th><th>feature_11</th><th>feature_12</th><th>feature_13</th><th>feature_14</th><th>feature_15</th><th>feature_16</th><th>feature_17</th><th>feature_18</th><th>feature_19</th><th>feature_20</th><th>feature_21</th><th>feature_22</th><th>feature_23</th><th>feature_24</th><th>feature_25</th><th>feature_26</th><th>feature_27</th><th>feature_28</th><th>feature_29</th><th>feature_30</th><th>feature_31</th><th>&hellip;</th><th>feature_53</th><th>feature_54</th><th>feature_55</th><th>feature_56</th><th>feature_57</th><th>feature_58</th><th>feature_59</th><th>feature_60</th><th>feature_61</th><th>feature_62</th><th>feature_63</th><th>feature_64</th><th>feature_65</th><th>feature_66</th><th>feature_67</th><th>feature_68</th><th>feature_69</th><th>feature_70</th><th>feature_71</th><th>feature_72</th><th>feature_73</th><th>feature_74</th><th>feature_75</th><th>feature_76</th><th>feature_77</th><th>feature_78</th><th>responder_0</th><th>responder_1</th><th>responder_2</th><th>responder_3</th><th>responder_4</th><th>responder_5</th><th>responder_6</th><th>responder_7</th><th>responder_8</th><th>partition_id</th><th>label</th></tr><tr><td>u32</td><td>i16</td><td>i16</td><td>i8</td><td>f32</td><td>f32</td><td>f32</td><td>f32</td><td>f32</td><td>f32</td><td>f32</td><td>f32</td><td>f32</td><td>f32</td><td>i8</td><td>i8</td><td>i16</td><td>f32</td><td>f32</td><td>f32</td><td>f32</td><td>f32</td><td>f32</td><td>f32</td><td>f32</td><td>f32</td><td>f32</td><td>f32</td><td>f32</td><td>f32</td><td>f32</td><td>f32</td><td>f32</td><td>f32</td><td>f32</td><td>f32</td><td>f32</td><td>&hellip;</td><td>f32</td><td>f32</td><td>f32</td><td>f32</td><td>f32</td><td>f32</td><td>f32</td><td>f32</td><td>f32</td><td>f32</td><td>f32</td><td>f32</td><td>f32</td><td>f32</td><td>f32</td><td>f32</td><td>f32</td><td>f32</td><td>f32</td><td>f32</td><td>f32</td><td>f32</td><td>f32</td><td>f32</td><td>f32</td><td>f32</td><td>f32</td><td>f32</td><td>f32</td><td>f32</td><td>f32</td><td>f32</td><td>f32</td><td>f32</td><td>f32</td><td>i64</td><td>i32</td></tr></thead><tbody><tr><td>18340954</td><td>900</td><td>0</td><td>0</td><td>2.371006</td><td>-0.362016</td><td>-0.696294</td><td>-0.019394</td><td>0.334306</td><td>2.253981</td><td>-0.439977</td><td>1.573309</td><td>0.352227</td><td>-0.044843</td><td>11</td><td>7</td><td>76</td><td>-1.099241</td><td>0.309228</td><td>-0.635026</td><td>null</td><td>0.283982</td><td>null</td><td>-1.131046</td><td>-1.035899</td><td>-0.278812</td><td>-0.20908</td><td>0.703597</td><td>1.203631</td><td>-0.339501</td><td>-0.719582</td><td>1.039576</td><td>1.153007</td><td>0.741938</td><td>0.226457</td><td>0.173083</td><td>-0.184055</td><td>&hellip;</td><td>null</td><td>-1.597145</td><td>null</td><td>-1.013786</td><td>1.302025</td><td>null</td><td>0.668544</td><td>0.306663</td><td>-1.095944</td><td>-0.271329</td><td>-0.03082</td><td>-0.0478</td><td>-1.575859</td><td>-1.533297</td><td>-1.003211</td><td>0.300566</td><td>-0.365393</td><td>-0.894165</td><td>0.097043</td><td>-0.709909</td><td>null</td><td>null</td><td>-0.167952</td><td>-0.297251</td><td>-0.272094</td><td>-0.252341</td><td>-0.112829</td><td>-0.075709</td><td>0.541234</td><td>-0.566407</td><td>-0.626564</td><td>-0.746171</td><td>-0.716941</td><td>-0.455068</td><td>-1.3275</td><td>5</td><td>-1</td></tr><tr><td>18340955</td><td>900</td><td>0</td><td>1</td><td>3.687028</td><td>0.293689</td><td>-0.603608</td><td>-0.674807</td><td>0.024626</td><td>1.889744</td><td>-0.53366</td><td>1.414847</td><td>0.289346</td><td>-0.053265</td><td>11</td><td>7</td><td>76</td><td>-0.914842</td><td>0.195611</td><td>-0.587876</td><td>null</td><td>-0.285317</td><td>null</td><td>-0.842046</td><td>-0.823002</td><td>-0.059361</td><td>0.087735</td><td>1.852966</td><td>1.646581</td><td>0.009873</td><td>-0.733066</td><td>0.425621</td><td>1.664557</td><td>2.13886</td><td>-0.236449</td><td>-0.290679</td><td>0.084217</td><td>&hellip;</td><td>null</td><td>-1.292938</td><td>null</td><td>-1.349268</td><td>1.767661</td><td>null</td><td>2.272888</td><td>1.085229</td><td>-1.095944</td><td>-0.223109</td><td>-0.179489</td><td>-0.277511</td><td>-1.639956</td><td>-1.501274</td><td>-0.977827</td><td>0.123375</td><td>-0.45289</td><td>-1.133464</td><td>0.257559</td><td>-0.640283</td><td>null</td><td>null</td><td>-0.208362</td><td>-0.267925</td><td>-0.177973</td><td>-0.295702</td><td>-0.367251</td><td>-0.221843</td><td>-1.160344</td><td>-0.190356</td><td>-0.352678</td><td>-1.381038</td><td>-0.193624</td><td>-0.209931</td><td>-0.81559</td><td>5</td><td>0</td></tr><tr><td>18340956</td><td>900</td><td>0</td><td>2</td><td>1.78284</td><td>0.058466</td><td>-0.616436</td><td>0.16103</td><td>0.153395</td><td>2.325349</td><td>-0.320207</td><td>1.460199</td><td>0.300257</td><td>-0.076107</td><td>81</td><td>2</td><td>59</td><td>-0.961296</td><td>1.546081</td><td>-0.047038</td><td>null</td><td>0.028425</td><td>null</td><td>-1.470194</td><td>-1.869943</td><td>-0.783728</td><td>-0.207264</td><td>0.04208</td><td>-0.31905</td><td>-0.44346</td><td>-0.782183</td><td>0.349521</td><td>1.803328</td><td>1.483842</td><td>-0.595795</td><td>-0.419538</td><td>-0.241272</td><td>&hellip;</td><td>null</td><td>-0.274939</td><td>null</td><td>-0.981101</td><td>2.188366</td><td>null</td><td>2.931268</td><td>1.082697</td><td>-1.095944</td><td>0.015759</td><td>-0.175433</td><td>-0.106617</td><td>-1.93917</td><td>-2.069989</td><td>-0.866594</td><td>1.045068</td><td>-0.377948</td><td>-0.967123</td><td>2.72307</td><td>-0.110954</td><td>null</td><td>null</td><td>0.873847</td><td>0.790283</td><td>-0.040086</td><td>-0.036944</td><td>0.737472</td><td>0.160162</td><td>0.733051</td><td>-0.372516</td><td>-0.768763</td><td>-1.387485</td><td>-1.048492</td><td>-1.776193</td><td>-2.540738</td><td>5</td><td>-2</td></tr><tr><td>18340957</td><td>900</td><td>0</td><td>3</td><td>1.547719</td><td>-0.363907</td><td>-0.387501</td><td>0.061037</td><td>-0.205486</td><td>1.717424</td><td>-0.534499</td><td>1.302091</td><td>0.308245</td><td>-0.043578</td><td>4</td><td>3</td><td>11</td><td>-0.888497</td><td>0.19357</td><td>-0.663478</td><td>null</td><td>0.167434</td><td>null</td><td>-1.538333</td><td>-1.286979</td><td>0.369831</td><td>0.156803</td><td>-0.473849</td><td>-1.029982</td><td>0.385592</td><td>-0.38753</td><td>-0.386601</td><td>-0.874078</td><td>-0.781389</td><td>-0.526571</td><td>-0.850001</td><td>0.172943</td><td>&hellip;</td><td>null</td><td>-0.802743</td><td>null</td><td>-1.348928</td><td>1.5755</td><td>null</td><td>1.633589</td><td>0.821374</td><td>-1.095944</td><td>-0.140429</td><td>0.26251</td><td>-0.012567</td><td>-1.236598</td><td>-1.376425</td><td>-0.819258</td><td>-0.125511</td><td>-0.536088</td><td>-0.662439</td><td>0.331441</td><td>-0.272971</td><td>null</td><td>null</td><td>9.073547</td><td>7.78659</td><td>2.52084</td><td>5.492901</td><td>-0.062704</td><td>-0.086862</td><td>-0.02496</td><td>1.408547</td><td>-0.392927</td><td>-0.129132</td><td>1.960046</td><td>-0.474515</td><td>-0.122464</td><td>5</td><td>3</td></tr><tr><td>18340958</td><td>900</td><td>0</td><td>7</td><td>2.320256</td><td>-0.254111</td><td>-0.727723</td><td>-0.168957</td><td>0.264305</td><td>2.023745</td><td>-0.53854</td><td>1.686796</td><td>0.384101</td><td>-0.059297</td><td>11</td><td>7</td><td>76</td><td>-1.186049</td><td>-0.520586</td><td>-0.607425</td><td>null</td><td>1.152275</td><td>null</td><td>-0.919511</td><td>-1.271852</td><td>0.721635</td><td>0.035307</td><td>0.375869</td><td>2.085817</td><td>-0.115594</td><td>-0.832953</td><td>-0.981918</td><td>0.761649</td><td>0.603729</td><td>1.783795</td><td>1.488107</td><td>0.04045</td><td>&hellip;</td><td>null</td><td>-1.75769</td><td>null</td><td>-1.784724</td><td>0.627529</td><td>null</td><td>0.374991</td><td>0.281838</td><td>-1.095944</td><td>-0.161465</td><td>0.28516</td><td>0.159623</td><td>-2.008134</td><td>-1.425322</td><td>-0.859137</td><td>-0.265254</td><td>-0.689399</td><td>-1.158431</td><td>-0.357917</td><td>-0.6256</td><td>null</td><td>null</td><td>-0.246888</td><td>-0.213367</td><td>-0.299885</td><td>-0.223796</td><td>-0.041207</td><td>-0.50557</td><td>0.181291</td><td>-1.067922</td><td>-0.632572</td><td>-1.787657</td><td>-0.755364</td><td>-0.257752</td><td>-3.729681</td><td>5</td><td>-1</td></tr><tr><td>&hellip;</td><td>&hellip;</td><td>&hellip;</td><td>&hellip;</td><td>&hellip;</td><td>&hellip;</td><td>&hellip;</td><td>&hellip;</td><td>&hellip;</td><td>&hellip;</td><td>&hellip;</td><td>&hellip;</td><td>&hellip;</td><td>&hellip;</td><td>&hellip;</td><td>&hellip;</td><td>&hellip;</td><td>&hellip;</td><td>&hellip;</td><td>&hellip;</td><td>&hellip;</td><td>&hellip;</td><td>&hellip;</td><td>&hellip;</td><td>&hellip;</td><td>&hellip;</td><td>&hellip;</td><td>&hellip;</td><td>&hellip;</td><td>&hellip;</td><td>&hellip;</td><td>&hellip;</td><td>&hellip;</td><td>&hellip;</td><td>&hellip;</td><td>&hellip;</td><td>&hellip;</td><td>&hellip;</td><td>&hellip;</td><td>&hellip;</td><td>&hellip;</td><td>&hellip;</td><td>&hellip;</td><td>&hellip;</td><td>&hellip;</td><td>&hellip;</td><td>&hellip;</td><td>&hellip;</td><td>&hellip;</td><td>&hellip;</td><td>&hellip;</td><td>&hellip;</td><td>&hellip;</td><td>&hellip;</td><td>&hellip;</td><td>&hellip;</td><td>&hellip;</td><td>&hellip;</td><td>&hellip;</td><td>&hellip;</td><td>&hellip;</td><td>&hellip;</td><td>&hellip;</td><td>&hellip;</td><td>&hellip;</td><td>&hellip;</td><td>&hellip;</td><td>&hellip;</td><td>&hellip;</td><td>&hellip;</td><td>&hellip;</td><td>&hellip;</td><td>&hellip;</td><td>&hellip;</td><td>&hellip;</td></tr><tr><td>47127333</td><td>1698</td><td>967</td><td>34</td><td>3.242493</td><td>2.52516</td><td>-0.721981</td><td>2.544025</td><td>2.477615</td><td>0.417557</td><td>0.785812</td><td>1.117796</td><td>2.199436</td><td>0.415427</td><td>42</td><td>5</td><td>150</td><td>0.804403</td><td>1.157257</td><td>1.031543</td><td>-0.671189</td><td>-0.3286</td><td>-0.486132</td><td>1.730176</td><td>-0.006173</td><td>-0.001144</td><td>-0.213062</td><td>0.932618</td><td>1.367338</td><td>-0.238197</td><td>-0.692615</td><td>-0.121163</td><td>1.090798</td><td>1.444294</td><td>-0.675626</td><td>-1.013264</td><td>-0.242888</td><td>&hellip;</td><td>1.377051</td><td>-0.396358</td><td>0.520262</td><td>1.179617</td><td>1.127657</td><td>2.231928</td><td>0.614652</td><td>2.412886</td><td>-1.101531</td><td>-0.384833</td><td>-0.275818</td><td>-0.40804</td><td>2.427115</td><td>-0.108427</td><td>0.739734</td><td>0.830205</td><td>0.366287</td><td>1.33325</td><td>1.075499</td><td>1.798264</td><td>-0.183443</td><td>-0.190222</td><td>0.234211</td><td>0.347142</td><td>-0.044463</td><td>0.016936</td><td>0.243475</td><td>0.166927</td><td>0.38494</td><td>-0.174297</td><td>-0.066046</td><td>-0.038767</td><td>-0.132337</td><td>-0.022426</td><td>-0.252461</td><td>9</td><td>0</td></tr><tr><td>47127334</td><td>1698</td><td>967</td><td>35</td><td>1.079139</td><td>1.857906</td><td>-0.790646</td><td>2.745439</td><td>2.339877</td><td>0.845065</td><td>0.65137</td><td>1.180301</td><td>1.966379</td><td>0.321543</td><td>25</td><td>7</td><td>195</td><td>-0.075294</td><td>-0.152726</td><td>-0.20417</td><td>-0.421137</td><td>0.21708</td><td>-0.258775</td><td>1.874978</td><td>0.19988</td><td>-0.199219</td><td>-0.125619</td><td>-1.004547</td><td>-0.051933</td><td>0.450905</td><td>0.009246</td><td>0.164127</td><td>-0.939974</td><td>-1.143421</td><td>-0.320071</td><td>-0.379835</td><td>-0.142429</td><td>&hellip;</td><td>0.687755</td><td>-1.189577</td><td>0.180146</td><td>-0.175486</td><td>-1.60435</td><td>-0.209283</td><td>0.249847</td><td>0.288816</td><td>-1.101531</td><td>-0.343868</td><td>-0.253991</td><td>-0.278832</td><td>2.050639</td><td>-0.059506</td><td>-0.029396</td><td>-0.101381</td><td>-0.187759</td><td>-0.180839</td><td>-0.0861</td><td>-0.153405</td><td>-0.196077</td><td>-0.175292</td><td>1.04578</td><td>0.739733</td><td>0.03372</td><td>0.05086</td><td>0.850152</td><td>0.909382</td><td>1.015314</td><td>0.235962</td><td>0.122539</td><td>0.099559</td><td>-0.249584</td><td>-0.123571</td><td>-0.46063</td><td>9</td><td>0</td></tr><tr><td>47127335</td><td>1698</td><td>967</td><td>36</td><td>1.033172</td><td>2.515527</td><td>-0.672298</td><td>2.28925</td><td>2.521592</td><td>0.255077</td><td>0.919892</td><td>1.172018</td><td>2.180496</td><td>0.24846</td><td>49</td><td>7</td><td>297</td><td>1.026715</td><td>-0.096892</td><td>0.224309</td><td>-0.528109</td><td>-0.704952</td><td>-0.704818</td><td>2.312482</td><td>0.32804</td><td>-0.108193</td><td>null</td><td>-0.945684</td><td>-0.244173</td><td>0.205989</td><td>-0.357343</td><td>null</td><td>null</td><td>-1.11075</td><td>-0.580242</td><td>-0.400568</td><td>null</td><td>&hellip;</td><td>0.933568</td><td>0.032978</td><td>-0.519118</td><td>-0.290343</td><td>-0.806786</td><td>0.106295</td><td>0.183461</td><td>1.830421</td><td>-1.101531</td><td>-0.341991</td><td>-0.249132</td><td>-0.34365</td><td>2.251358</td><td>0.601888</td><td>1.035051</td><td>-0.283241</td><td>0.107244</td><td>0.86016</td><td>0.024223</td><td>0.374852</td><td>-0.220933</td><td>-0.161584</td><td>0.032771</td><td>0.036888</td><td>0.168908</td><td>0.152333</td><td>0.395684</td><td>-0.292574</td><td>-3.215846</td><td>-0.535129</td><td>-0.178484</td><td>-1.80815</td><td>-0.065355</td><td>-0.000367</td><td>-0.12517</td><td>9</td><td>0</td></tr><tr><td>47127336</td><td>1698</td><td>967</td><td>37</td><td>1.243116</td><td>2.663298</td><td>-0.889112</td><td>2.313155</td><td>3.101428</td><td>0.324454</td><td>0.618944</td><td>1.185663</td><td>1.599724</td><td>0.319719</td><td>34</td><td>4</td><td>214</td><td>0.759314</td><td>0.284057</td><td>0.41716</td><td>-0.611075</td><td>-0.513717</td><td>-0.891423</td><td>1.84994</td><td>0.406756</td><td>-1.608196</td><td>-0.252663</td><td>-0.271574</td><td>-0.051405</td><td>0.098146</td><td>-0.653961</td><td>0.173676</td><td>-0.016497</td><td>-0.404509</td><td>-0.577262</td><td>-0.731429</td><td>-0.21646</td><td>&hellip;</td><td>1.876459</td><td>-0.143377</td><td>0.845516</td><td>0.301135</td><td>-0.395703</td><td>0.738038</td><td>-0.04124</td><td>1.270645</td><td>-1.101531</td><td>-0.358106</td><td>-0.141883</td><td>-0.255192</td><td>2.489247</td><td>0.537652</td><td>0.982107</td><td>-0.158009</td><td>0.137389</td><td>0.478357</td><td>0.782692</td><td>0.581421</td><td>-0.106056</td><td>-0.111017</td><td>0.163867</td><td>0.169331</td><td>-0.037563</td><td>-0.029483</td><td>1.925987</td><td>0.479394</td><td>3.621867</td><td>-0.107114</td><td>-0.063599</td><td>1.204755</td><td>-0.148711</td><td>-0.026583</td><td>-0.256395</td><td>9</td><td>0</td></tr><tr><td>47127337</td><td>1698</td><td>967</td><td>38</td><td>3.193685</td><td>2.728506</td><td>-0.745238</td><td>2.788789</td><td>2.343393</td><td>0.454731</td><td>0.862839</td><td>0.964795</td><td>2.089673</td><td>0.344931</td><td>50</td><td>1</td><td>522</td><td>0.406531</td><td>0.618247</td><td>1.01327</td><td>-0.952069</td><td>-0.679168</td><td>-0.597603</td><td>0.375125</td><td>1.97537</td><td>-0.440974</td><td>-0.072018</td><td>1.741353</td><td>1.380735</td><td>-0.110494</td><td>-0.874806</td><td>0.553424</td><td>0.532243</td><td>0.263214</td><td>-0.757856</td><td>-0.869204</td><td>-0.062955</td><td>&hellip;</td><td>1.862022</td><td>0.503819</td><td>1.310126</td><td>0.662521</td><td>1.654948</td><td>1.090367</td><td>0.535922</td><td>0.653011</td><td>-1.101531</td><td>-0.622853</td><td>-0.363631</td><td>-0.395652</td><td>-0.016812</td><td>2.016734</td><td>0.241486</td><td>0.253229</td><td>0.228745</td><td>0.462717</td><td>0.799635</td><td>0.706102</td><td>-0.376377</td><td>-0.286764</td><td>-0.359046</td><td>-0.246135</td><td>-0.288941</td><td>-0.247774</td><td>1.228778</td><td>0.512562</td><td>-0.050865</td><td>0.160883</td><td>0.080756</td><td>-0.078237</td><td>-0.138548</td><td>-0.038771</td><td>-0.21194</td><td>9</td><td>0</td></tr></tbody></table></div>"
      ],
      "text/plain": [
       "shape: (28_786_384, 95)\n",
       "┌──────────┬─────────┬─────────┬───────────┬───┬─────────────┬─────────────┬──────────────┬───────┐\n",
       "│ id       ┆ date_id ┆ time_id ┆ symbol_id ┆ … ┆ responder_7 ┆ responder_8 ┆ partition_id ┆ label │\n",
       "│ ---      ┆ ---     ┆ ---     ┆ ---       ┆   ┆ ---         ┆ ---         ┆ ---          ┆ ---   │\n",
       "│ u32      ┆ i16     ┆ i16     ┆ i8        ┆   ┆ f32         ┆ f32         ┆ i64          ┆ i32   │\n",
       "╞══════════╪═════════╪═════════╪═══════════╪═══╪═════════════╪═════════════╪══════════════╪═══════╡\n",
       "│ 18340954 ┆ 900     ┆ 0       ┆ 0         ┆ … ┆ -0.455068   ┆ -1.3275     ┆ 5            ┆ -1    │\n",
       "│ 18340955 ┆ 900     ┆ 0       ┆ 1         ┆ … ┆ -0.209931   ┆ -0.81559    ┆ 5            ┆ 0     │\n",
       "│ 18340956 ┆ 900     ┆ 0       ┆ 2         ┆ … ┆ -1.776193   ┆ -2.540738   ┆ 5            ┆ -2    │\n",
       "│ 18340957 ┆ 900     ┆ 0       ┆ 3         ┆ … ┆ -0.474515   ┆ -0.122464   ┆ 5            ┆ 3     │\n",
       "│ 18340958 ┆ 900     ┆ 0       ┆ 7         ┆ … ┆ -0.257752   ┆ -3.729681   ┆ 5            ┆ -1    │\n",
       "│ …        ┆ …       ┆ …       ┆ …         ┆ … ┆ …           ┆ …           ┆ …            ┆ …     │\n",
       "│ 47127333 ┆ 1698    ┆ 967     ┆ 34        ┆ … ┆ -0.022426   ┆ -0.252461   ┆ 9            ┆ 0     │\n",
       "│ 47127334 ┆ 1698    ┆ 967     ┆ 35        ┆ … ┆ -0.123571   ┆ -0.46063    ┆ 9            ┆ 0     │\n",
       "│ 47127335 ┆ 1698    ┆ 967     ┆ 36        ┆ … ┆ -0.000367   ┆ -0.12517    ┆ 9            ┆ 0     │\n",
       "│ 47127336 ┆ 1698    ┆ 967     ┆ 37        ┆ … ┆ -0.026583   ┆ -0.256395   ┆ 9            ┆ 0     │\n",
       "│ 47127337 ┆ 1698    ┆ 967     ┆ 38        ┆ … ┆ -0.038771   ┆ -0.21194    ┆ 9            ┆ 0     │\n",
       "└──────────┴─────────┴─────────┴───────────┴───┴─────────────┴─────────────┴──────────────┴───────┘"
      ]
     },
     "execution_count": 3,
     "metadata": {},
     "output_type": "execute_result"
    }
   ],
   "source": [
    "train = pl.scan_parquet(f\"./train.parquet\").select(\n",
    "    pl.int_range(pl.len(), dtype=pl.UInt32).alias(\"id\"),\n",
    "    pl.all(),\n",
    ").with_columns(\n",
    "    (pl.col(CONFIG.target_col)*2).cast(pl.Int32).alias(\"label\"),\n",
    ").filter(pl.col(\"date_id\") >= CONFIG.start_dt)\n",
    "train.collect()"
   ]
  },
  {
   "cell_type": "code",
   "execution_count": 4,
   "metadata": {},
   "outputs": [
    {
     "data": {
      "text/html": [
       "<div><style>\n",
       ".dataframe > thead > tr,\n",
       ".dataframe > tbody > tr {\n",
       "  text-align: right;\n",
       "  white-space: pre-wrap;\n",
       "}\n",
       "</style>\n",
       "<small>shape: (9, 2)</small><table border=\"1\" class=\"dataframe\"><thead><tr><th>statistic</th><th>label</th></tr><tr><td>str</td><td>f64</td></tr></thead><tbody><tr><td>&quot;count&quot;</td><td>2.8786384e7</td></tr><tr><td>&quot;null_count&quot;</td><td>0.0</td></tr><tr><td>&quot;mean&quot;</td><td>0.022574</td></tr><tr><td>&quot;std&quot;</td><td>1.448318</td></tr><tr><td>&quot;min&quot;</td><td>-10.0</td></tr><tr><td>&quot;25%&quot;</td><td>0.0</td></tr><tr><td>&quot;50%&quot;</td><td>0.0</td></tr><tr><td>&quot;75%&quot;</td><td>0.0</td></tr><tr><td>&quot;max&quot;</td><td>10.0</td></tr></tbody></table></div>"
      ],
      "text/plain": [
       "shape: (9, 2)\n",
       "┌────────────┬─────────────┐\n",
       "│ statistic  ┆ label       │\n",
       "│ ---        ┆ ---         │\n",
       "│ str        ┆ f64         │\n",
       "╞════════════╪═════════════╡\n",
       "│ count      ┆ 2.8786384e7 │\n",
       "│ null_count ┆ 0.0         │\n",
       "│ mean       ┆ 0.022574    │\n",
       "│ std        ┆ 1.448318    │\n",
       "│ min        ┆ -10.0       │\n",
       "│ 25%        ┆ 0.0         │\n",
       "│ 50%        ┆ 0.0         │\n",
       "│ 75%        ┆ 0.0         │\n",
       "│ max        ┆ 10.0        │\n",
       "└────────────┴─────────────┘"
      ]
     },
     "execution_count": 4,
     "metadata": {},
     "output_type": "execute_result"
    }
   ],
   "source": [
    "train.select(pl.col(\"label\")).collect().describe()"
   ]
  },
  {
   "cell_type": "code",
   "execution_count": 5,
   "metadata": {},
   "outputs": [],
   "source": [
    "lags = train.select(pl.col(CONFIG.lag_cols_original)).rename(CONFIG.lag_cols_rename).with_columns(\n",
    "    date_id = pl.col('date_id') + 1\n",
    ")\n",
    "lags = lags.group_by([\"date_id\", \"symbol_id\"], maintain_order=True).last()\n"
   ]
  },
  {
   "cell_type": "code",
   "execution_count": 6,
   "metadata": {},
   "outputs": [
    {
     "data": {
      "text/html": [
       "<div><style>\n",
       ".dataframe > thead > tr,\n",
       ".dataframe > tbody > tr {\n",
       "  text-align: right;\n",
       "  white-space: pre-wrap;\n",
       "}\n",
       "</style>\n",
       "<small>shape: (28_786_384, 104)</small><table border=\"1\" class=\"dataframe\"><thead><tr><th>id</th><th>date_id</th><th>time_id</th><th>symbol_id</th><th>weight</th><th>feature_00</th><th>feature_01</th><th>feature_02</th><th>feature_03</th><th>feature_04</th><th>feature_05</th><th>feature_06</th><th>feature_07</th><th>feature_08</th><th>feature_09</th><th>feature_10</th><th>feature_11</th><th>feature_12</th><th>feature_13</th><th>feature_14</th><th>feature_15</th><th>feature_16</th><th>feature_17</th><th>feature_18</th><th>feature_19</th><th>feature_20</th><th>feature_21</th><th>feature_22</th><th>feature_23</th><th>feature_24</th><th>feature_25</th><th>feature_26</th><th>feature_27</th><th>feature_28</th><th>feature_29</th><th>feature_30</th><th>feature_31</th><th>&hellip;</th><th>feature_62</th><th>feature_63</th><th>feature_64</th><th>feature_65</th><th>feature_66</th><th>feature_67</th><th>feature_68</th><th>feature_69</th><th>feature_70</th><th>feature_71</th><th>feature_72</th><th>feature_73</th><th>feature_74</th><th>feature_75</th><th>feature_76</th><th>feature_77</th><th>feature_78</th><th>responder_0</th><th>responder_1</th><th>responder_2</th><th>responder_3</th><th>responder_4</th><th>responder_5</th><th>responder_6</th><th>responder_7</th><th>responder_8</th><th>partition_id</th><th>label</th><th>responder_0_lag_1</th><th>responder_1_lag_1</th><th>responder_2_lag_1</th><th>responder_3_lag_1</th><th>responder_4_lag_1</th><th>responder_5_lag_1</th><th>responder_6_lag_1</th><th>responder_7_lag_1</th><th>responder_8_lag_1</th></tr><tr><td>u32</td><td>i16</td><td>i16</td><td>i8</td><td>f32</td><td>f32</td><td>f32</td><td>f32</td><td>f32</td><td>f32</td><td>f32</td><td>f32</td><td>f32</td><td>f32</td><td>i8</td><td>i8</td><td>i16</td><td>f32</td><td>f32</td><td>f32</td><td>f32</td><td>f32</td><td>f32</td><td>f32</td><td>f32</td><td>f32</td><td>f32</td><td>f32</td><td>f32</td><td>f32</td><td>f32</td><td>f32</td><td>f32</td><td>f32</td><td>f32</td><td>f32</td><td>f32</td><td>&hellip;</td><td>f32</td><td>f32</td><td>f32</td><td>f32</td><td>f32</td><td>f32</td><td>f32</td><td>f32</td><td>f32</td><td>f32</td><td>f32</td><td>f32</td><td>f32</td><td>f32</td><td>f32</td><td>f32</td><td>f32</td><td>f32</td><td>f32</td><td>f32</td><td>f32</td><td>f32</td><td>f32</td><td>f32</td><td>f32</td><td>f32</td><td>i64</td><td>i32</td><td>f32</td><td>f32</td><td>f32</td><td>f32</td><td>f32</td><td>f32</td><td>f32</td><td>f32</td><td>f32</td></tr></thead><tbody><tr><td>18340954</td><td>900</td><td>0</td><td>0</td><td>2.371006</td><td>-0.362016</td><td>-0.696294</td><td>-0.019394</td><td>0.334306</td><td>2.253981</td><td>-0.439977</td><td>1.573309</td><td>0.352227</td><td>-0.044843</td><td>11</td><td>7</td><td>76</td><td>-1.099241</td><td>0.309228</td><td>-0.635026</td><td>null</td><td>0.283982</td><td>null</td><td>-1.131046</td><td>-1.035899</td><td>-0.278812</td><td>-0.20908</td><td>0.703597</td><td>1.203631</td><td>-0.339501</td><td>-0.719582</td><td>1.039576</td><td>1.153007</td><td>0.741938</td><td>0.226457</td><td>0.173083</td><td>-0.184055</td><td>&hellip;</td><td>-0.271329</td><td>-0.03082</td><td>-0.0478</td><td>-1.575859</td><td>-1.533297</td><td>-1.003211</td><td>0.300566</td><td>-0.365393</td><td>-0.894165</td><td>0.097043</td><td>-0.709909</td><td>null</td><td>null</td><td>-0.167952</td><td>-0.297251</td><td>-0.272094</td><td>-0.252341</td><td>-0.112829</td><td>-0.075709</td><td>0.541234</td><td>-0.566407</td><td>-0.626564</td><td>-0.746171</td><td>-0.716941</td><td>-0.455068</td><td>-1.3275</td><td>5</td><td>-1</td><td>null</td><td>null</td><td>null</td><td>null</td><td>null</td><td>null</td><td>null</td><td>null</td><td>null</td></tr><tr><td>18340955</td><td>900</td><td>0</td><td>1</td><td>3.687028</td><td>0.293689</td><td>-0.603608</td><td>-0.674807</td><td>0.024626</td><td>1.889744</td><td>-0.53366</td><td>1.414847</td><td>0.289346</td><td>-0.053265</td><td>11</td><td>7</td><td>76</td><td>-0.914842</td><td>0.195611</td><td>-0.587876</td><td>null</td><td>-0.285317</td><td>null</td><td>-0.842046</td><td>-0.823002</td><td>-0.059361</td><td>0.087735</td><td>1.852966</td><td>1.646581</td><td>0.009873</td><td>-0.733066</td><td>0.425621</td><td>1.664557</td><td>2.13886</td><td>-0.236449</td><td>-0.290679</td><td>0.084217</td><td>&hellip;</td><td>-0.223109</td><td>-0.179489</td><td>-0.277511</td><td>-1.639956</td><td>-1.501274</td><td>-0.977827</td><td>0.123375</td><td>-0.45289</td><td>-1.133464</td><td>0.257559</td><td>-0.640283</td><td>null</td><td>null</td><td>-0.208362</td><td>-0.267925</td><td>-0.177973</td><td>-0.295702</td><td>-0.367251</td><td>-0.221843</td><td>-1.160344</td><td>-0.190356</td><td>-0.352678</td><td>-1.381038</td><td>-0.193624</td><td>-0.209931</td><td>-0.81559</td><td>5</td><td>0</td><td>null</td><td>null</td><td>null</td><td>null</td><td>null</td><td>null</td><td>null</td><td>null</td><td>null</td></tr><tr><td>18340956</td><td>900</td><td>0</td><td>2</td><td>1.78284</td><td>0.058466</td><td>-0.616436</td><td>0.16103</td><td>0.153395</td><td>2.325349</td><td>-0.320207</td><td>1.460199</td><td>0.300257</td><td>-0.076107</td><td>81</td><td>2</td><td>59</td><td>-0.961296</td><td>1.546081</td><td>-0.047038</td><td>null</td><td>0.028425</td><td>null</td><td>-1.470194</td><td>-1.869943</td><td>-0.783728</td><td>-0.207264</td><td>0.04208</td><td>-0.31905</td><td>-0.44346</td><td>-0.782183</td><td>0.349521</td><td>1.803328</td><td>1.483842</td><td>-0.595795</td><td>-0.419538</td><td>-0.241272</td><td>&hellip;</td><td>0.015759</td><td>-0.175433</td><td>-0.106617</td><td>-1.93917</td><td>-2.069989</td><td>-0.866594</td><td>1.045068</td><td>-0.377948</td><td>-0.967123</td><td>2.72307</td><td>-0.110954</td><td>null</td><td>null</td><td>0.873847</td><td>0.790283</td><td>-0.040086</td><td>-0.036944</td><td>0.737472</td><td>0.160162</td><td>0.733051</td><td>-0.372516</td><td>-0.768763</td><td>-1.387485</td><td>-1.048492</td><td>-1.776193</td><td>-2.540738</td><td>5</td><td>-2</td><td>null</td><td>null</td><td>null</td><td>null</td><td>null</td><td>null</td><td>null</td><td>null</td><td>null</td></tr><tr><td>18340957</td><td>900</td><td>0</td><td>3</td><td>1.547719</td><td>-0.363907</td><td>-0.387501</td><td>0.061037</td><td>-0.205486</td><td>1.717424</td><td>-0.534499</td><td>1.302091</td><td>0.308245</td><td>-0.043578</td><td>4</td><td>3</td><td>11</td><td>-0.888497</td><td>0.19357</td><td>-0.663478</td><td>null</td><td>0.167434</td><td>null</td><td>-1.538333</td><td>-1.286979</td><td>0.369831</td><td>0.156803</td><td>-0.473849</td><td>-1.029982</td><td>0.385592</td><td>-0.38753</td><td>-0.386601</td><td>-0.874078</td><td>-0.781389</td><td>-0.526571</td><td>-0.850001</td><td>0.172943</td><td>&hellip;</td><td>-0.140429</td><td>0.26251</td><td>-0.012567</td><td>-1.236598</td><td>-1.376425</td><td>-0.819258</td><td>-0.125511</td><td>-0.536088</td><td>-0.662439</td><td>0.331441</td><td>-0.272971</td><td>null</td><td>null</td><td>9.073547</td><td>7.78659</td><td>2.52084</td><td>5.492901</td><td>-0.062704</td><td>-0.086862</td><td>-0.02496</td><td>1.408547</td><td>-0.392927</td><td>-0.129132</td><td>1.960046</td><td>-0.474515</td><td>-0.122464</td><td>5</td><td>3</td><td>null</td><td>null</td><td>null</td><td>null</td><td>null</td><td>null</td><td>null</td><td>null</td><td>null</td></tr><tr><td>18340958</td><td>900</td><td>0</td><td>7</td><td>2.320256</td><td>-0.254111</td><td>-0.727723</td><td>-0.168957</td><td>0.264305</td><td>2.023745</td><td>-0.53854</td><td>1.686796</td><td>0.384101</td><td>-0.059297</td><td>11</td><td>7</td><td>76</td><td>-1.186049</td><td>-0.520586</td><td>-0.607425</td><td>null</td><td>1.152275</td><td>null</td><td>-0.919511</td><td>-1.271852</td><td>0.721635</td><td>0.035307</td><td>0.375869</td><td>2.085817</td><td>-0.115594</td><td>-0.832953</td><td>-0.981918</td><td>0.761649</td><td>0.603729</td><td>1.783795</td><td>1.488107</td><td>0.04045</td><td>&hellip;</td><td>-0.161465</td><td>0.28516</td><td>0.159623</td><td>-2.008134</td><td>-1.425322</td><td>-0.859137</td><td>-0.265254</td><td>-0.689399</td><td>-1.158431</td><td>-0.357917</td><td>-0.6256</td><td>null</td><td>null</td><td>-0.246888</td><td>-0.213367</td><td>-0.299885</td><td>-0.223796</td><td>-0.041207</td><td>-0.50557</td><td>0.181291</td><td>-1.067922</td><td>-0.632572</td><td>-1.787657</td><td>-0.755364</td><td>-0.257752</td><td>-3.729681</td><td>5</td><td>-1</td><td>null</td><td>null</td><td>null</td><td>null</td><td>null</td><td>null</td><td>null</td><td>null</td><td>null</td></tr><tr><td>&hellip;</td><td>&hellip;</td><td>&hellip;</td><td>&hellip;</td><td>&hellip;</td><td>&hellip;</td><td>&hellip;</td><td>&hellip;</td><td>&hellip;</td><td>&hellip;</td><td>&hellip;</td><td>&hellip;</td><td>&hellip;</td><td>&hellip;</td><td>&hellip;</td><td>&hellip;</td><td>&hellip;</td><td>&hellip;</td><td>&hellip;</td><td>&hellip;</td><td>&hellip;</td><td>&hellip;</td><td>&hellip;</td><td>&hellip;</td><td>&hellip;</td><td>&hellip;</td><td>&hellip;</td><td>&hellip;</td><td>&hellip;</td><td>&hellip;</td><td>&hellip;</td><td>&hellip;</td><td>&hellip;</td><td>&hellip;</td><td>&hellip;</td><td>&hellip;</td><td>&hellip;</td><td>&hellip;</td><td>&hellip;</td><td>&hellip;</td><td>&hellip;</td><td>&hellip;</td><td>&hellip;</td><td>&hellip;</td><td>&hellip;</td><td>&hellip;</td><td>&hellip;</td><td>&hellip;</td><td>&hellip;</td><td>&hellip;</td><td>&hellip;</td><td>&hellip;</td><td>&hellip;</td><td>&hellip;</td><td>&hellip;</td><td>&hellip;</td><td>&hellip;</td><td>&hellip;</td><td>&hellip;</td><td>&hellip;</td><td>&hellip;</td><td>&hellip;</td><td>&hellip;</td><td>&hellip;</td><td>&hellip;</td><td>&hellip;</td><td>&hellip;</td><td>&hellip;</td><td>&hellip;</td><td>&hellip;</td><td>&hellip;</td><td>&hellip;</td><td>&hellip;</td><td>&hellip;</td><td>&hellip;</td></tr><tr><td>47127333</td><td>1698</td><td>967</td><td>34</td><td>3.242493</td><td>2.52516</td><td>-0.721981</td><td>2.544025</td><td>2.477615</td><td>0.417557</td><td>0.785812</td><td>1.117796</td><td>2.199436</td><td>0.415427</td><td>42</td><td>5</td><td>150</td><td>0.804403</td><td>1.157257</td><td>1.031543</td><td>-0.671189</td><td>-0.3286</td><td>-0.486132</td><td>1.730176</td><td>-0.006173</td><td>-0.001144</td><td>-0.213062</td><td>0.932618</td><td>1.367338</td><td>-0.238197</td><td>-0.692615</td><td>-0.121163</td><td>1.090798</td><td>1.444294</td><td>-0.675626</td><td>-1.013264</td><td>-0.242888</td><td>&hellip;</td><td>-0.384833</td><td>-0.275818</td><td>-0.40804</td><td>2.427115</td><td>-0.108427</td><td>0.739734</td><td>0.830205</td><td>0.366287</td><td>1.33325</td><td>1.075499</td><td>1.798264</td><td>-0.183443</td><td>-0.190222</td><td>0.234211</td><td>0.347142</td><td>-0.044463</td><td>0.016936</td><td>0.243475</td><td>0.166927</td><td>0.38494</td><td>-0.174297</td><td>-0.066046</td><td>-0.038767</td><td>-0.132337</td><td>-0.022426</td><td>-0.252461</td><td>9</td><td>0</td><td>0.501321</td><td>0.905332</td><td>-0.819582</td><td>-0.564046</td><td>-0.223018</td><td>-0.283954</td><td>-0.045938</td><td>0.009797</td><td>-0.102538</td></tr><tr><td>47127334</td><td>1698</td><td>967</td><td>35</td><td>1.079139</td><td>1.857906</td><td>-0.790646</td><td>2.745439</td><td>2.339877</td><td>0.845065</td><td>0.65137</td><td>1.180301</td><td>1.966379</td><td>0.321543</td><td>25</td><td>7</td><td>195</td><td>-0.075294</td><td>-0.152726</td><td>-0.20417</td><td>-0.421137</td><td>0.21708</td><td>-0.258775</td><td>1.874978</td><td>0.19988</td><td>-0.199219</td><td>-0.125619</td><td>-1.004547</td><td>-0.051933</td><td>0.450905</td><td>0.009246</td><td>0.164127</td><td>-0.939974</td><td>-1.143421</td><td>-0.320071</td><td>-0.379835</td><td>-0.142429</td><td>&hellip;</td><td>-0.343868</td><td>-0.253991</td><td>-0.278832</td><td>2.050639</td><td>-0.059506</td><td>-0.029396</td><td>-0.101381</td><td>-0.187759</td><td>-0.180839</td><td>-0.0861</td><td>-0.153405</td><td>-0.196077</td><td>-0.175292</td><td>1.04578</td><td>0.739733</td><td>0.03372</td><td>0.05086</td><td>0.850152</td><td>0.909382</td><td>1.015314</td><td>0.235962</td><td>0.122539</td><td>0.099559</td><td>-0.249584</td><td>-0.123571</td><td>-0.46063</td><td>9</td><td>0</td><td>-1.113053</td><td>0.69719</td><td>-1.619031</td><td>-1.222743</td><td>-0.706082</td><td>-0.291133</td><td>0.167733</td><td>0.099704</td><td>0.32461</td></tr><tr><td>47127335</td><td>1698</td><td>967</td><td>36</td><td>1.033172</td><td>2.515527</td><td>-0.672298</td><td>2.28925</td><td>2.521592</td><td>0.255077</td><td>0.919892</td><td>1.172018</td><td>2.180496</td><td>0.24846</td><td>49</td><td>7</td><td>297</td><td>1.026715</td><td>-0.096892</td><td>0.224309</td><td>-0.528109</td><td>-0.704952</td><td>-0.704818</td><td>2.312482</td><td>0.32804</td><td>-0.108193</td><td>null</td><td>-0.945684</td><td>-0.244173</td><td>0.205989</td><td>-0.357343</td><td>null</td><td>null</td><td>-1.11075</td><td>-0.580242</td><td>-0.400568</td><td>null</td><td>&hellip;</td><td>-0.341991</td><td>-0.249132</td><td>-0.34365</td><td>2.251358</td><td>0.601888</td><td>1.035051</td><td>-0.283241</td><td>0.107244</td><td>0.86016</td><td>0.024223</td><td>0.374852</td><td>-0.220933</td><td>-0.161584</td><td>0.032771</td><td>0.036888</td><td>0.168908</td><td>0.152333</td><td>0.395684</td><td>-0.292574</td><td>-3.215846</td><td>-0.535129</td><td>-0.178484</td><td>-1.80815</td><td>-0.065355</td><td>-0.000367</td><td>-0.12517</td><td>9</td><td>0</td><td>-1.019353</td><td>-0.460962</td><td>-2.026678</td><td>-0.848606</td><td>-0.305448</td><td>-1.256913</td><td>-0.109359</td><td>-0.027474</td><td>-0.253956</td></tr><tr><td>47127336</td><td>1698</td><td>967</td><td>37</td><td>1.243116</td><td>2.663298</td><td>-0.889112</td><td>2.313155</td><td>3.101428</td><td>0.324454</td><td>0.618944</td><td>1.185663</td><td>1.599724</td><td>0.319719</td><td>34</td><td>4</td><td>214</td><td>0.759314</td><td>0.284057</td><td>0.41716</td><td>-0.611075</td><td>-0.513717</td><td>-0.891423</td><td>1.84994</td><td>0.406756</td><td>-1.608196</td><td>-0.252663</td><td>-0.271574</td><td>-0.051405</td><td>0.098146</td><td>-0.653961</td><td>0.173676</td><td>-0.016497</td><td>-0.404509</td><td>-0.577262</td><td>-0.731429</td><td>-0.21646</td><td>&hellip;</td><td>-0.358106</td><td>-0.141883</td><td>-0.255192</td><td>2.489247</td><td>0.537652</td><td>0.982107</td><td>-0.158009</td><td>0.137389</td><td>0.478357</td><td>0.782692</td><td>0.581421</td><td>-0.106056</td><td>-0.111017</td><td>0.163867</td><td>0.169331</td><td>-0.037563</td><td>-0.029483</td><td>1.925987</td><td>0.479394</td><td>3.621867</td><td>-0.107114</td><td>-0.063599</td><td>1.204755</td><td>-0.148711</td><td>-0.026583</td><td>-0.256395</td><td>9</td><td>0</td><td>0.23585</td><td>0.556479</td><td>0.618944</td><td>-0.243765</td><td>-0.108361</td><td>-0.260777</td><td>-0.486923</td><td>-0.275566</td><td>-1.020708</td></tr><tr><td>47127337</td><td>1698</td><td>967</td><td>38</td><td>3.193685</td><td>2.728506</td><td>-0.745238</td><td>2.788789</td><td>2.343393</td><td>0.454731</td><td>0.862839</td><td>0.964795</td><td>2.089673</td><td>0.344931</td><td>50</td><td>1</td><td>522</td><td>0.406531</td><td>0.618247</td><td>1.01327</td><td>-0.952069</td><td>-0.679168</td><td>-0.597603</td><td>0.375125</td><td>1.97537</td><td>-0.440974</td><td>-0.072018</td><td>1.741353</td><td>1.380735</td><td>-0.110494</td><td>-0.874806</td><td>0.553424</td><td>0.532243</td><td>0.263214</td><td>-0.757856</td><td>-0.869204</td><td>-0.062955</td><td>&hellip;</td><td>-0.622853</td><td>-0.363631</td><td>-0.395652</td><td>-0.016812</td><td>2.016734</td><td>0.241486</td><td>0.253229</td><td>0.228745</td><td>0.462717</td><td>0.799635</td><td>0.706102</td><td>-0.376377</td><td>-0.286764</td><td>-0.359046</td><td>-0.246135</td><td>-0.288941</td><td>-0.247774</td><td>1.228778</td><td>0.512562</td><td>-0.050865</td><td>0.160883</td><td>0.080756</td><td>-0.078237</td><td>-0.138548</td><td>-0.038771</td><td>-0.21194</td><td>9</td><td>0</td><td>0.542563</td><td>0.513193</td><td>0.814393</td><td>0.032767</td><td>0.025435</td><td>0.311465</td><td>-0.044797</td><td>0.011133</td><td>-0.0793</td></tr></tbody></table></div>"
      ],
      "text/plain": [
       "shape: (28_786_384, 104)\n",
       "┌──────────┬─────────┬─────────┬───────────┬───┬────────────┬────────────┬────────────┬────────────┐\n",
       "│ id       ┆ date_id ┆ time_id ┆ symbol_id ┆ … ┆ responder_ ┆ responder_ ┆ responder_ ┆ responder_ │\n",
       "│ ---      ┆ ---     ┆ ---     ┆ ---       ┆   ┆ 5_lag_1    ┆ 6_lag_1    ┆ 7_lag_1    ┆ 8_lag_1    │\n",
       "│ u32      ┆ i16     ┆ i16     ┆ i8        ┆   ┆ ---        ┆ ---        ┆ ---        ┆ ---        │\n",
       "│          ┆         ┆         ┆           ┆   ┆ f32        ┆ f32        ┆ f32        ┆ f32        │\n",
       "╞══════════╪═════════╪═════════╪═══════════╪═══╪════════════╪════════════╪════════════╪════════════╡\n",
       "│ 18340954 ┆ 900     ┆ 0       ┆ 0         ┆ … ┆ null       ┆ null       ┆ null       ┆ null       │\n",
       "│ 18340955 ┆ 900     ┆ 0       ┆ 1         ┆ … ┆ null       ┆ null       ┆ null       ┆ null       │\n",
       "│ 18340956 ┆ 900     ┆ 0       ┆ 2         ┆ … ┆ null       ┆ null       ┆ null       ┆ null       │\n",
       "│ 18340957 ┆ 900     ┆ 0       ┆ 3         ┆ … ┆ null       ┆ null       ┆ null       ┆ null       │\n",
       "│ 18340958 ┆ 900     ┆ 0       ┆ 7         ┆ … ┆ null       ┆ null       ┆ null       ┆ null       │\n",
       "│ …        ┆ …       ┆ …       ┆ …         ┆ … ┆ …          ┆ …          ┆ …          ┆ …          │\n",
       "│ 47127333 ┆ 1698    ┆ 967     ┆ 34        ┆ … ┆ -0.283954  ┆ -0.045938  ┆ 0.009797   ┆ -0.102538  │\n",
       "│ 47127334 ┆ 1698    ┆ 967     ┆ 35        ┆ … ┆ -0.291133  ┆ 0.167733   ┆ 0.099704   ┆ 0.32461    │\n",
       "│ 47127335 ┆ 1698    ┆ 967     ┆ 36        ┆ … ┆ -1.256913  ┆ -0.109359  ┆ -0.027474  ┆ -0.253956  │\n",
       "│ 47127336 ┆ 1698    ┆ 967     ┆ 37        ┆ … ┆ -0.260777  ┆ -0.486923  ┆ -0.275566  ┆ -1.020708  │\n",
       "│ 47127337 ┆ 1698    ┆ 967     ┆ 38        ┆ … ┆ 0.311465   ┆ -0.044797  ┆ 0.011133   ┆ -0.0793    │\n",
       "└──────────┴─────────┴─────────┴───────────┴───┴────────────┴────────────┴────────────┴────────────┘"
      ]
     },
     "execution_count": 6,
     "metadata": {},
     "output_type": "execute_result"
    }
   ],
   "source": [
    "train = train.join(lags, on=[\"date_id\", \"symbol_id\"], how=\"left\")\n",
    "train.collect()"
   ]
  },
  {
   "cell_type": "code",
   "execution_count": 7,
   "metadata": {},
   "outputs": [
    {
     "name": "stdout",
     "output_type": "stream",
     "text": [
      "len_train: 28786384, len_ofl_mdl: 27347065, last_tr_dt: 1660\n"
     ]
    }
   ],
   "source": [
    "len_train = train.select(pl.col(\"date_id\")).collect().shape[0]\n",
    "valid_records = int(len_train * CONFIG.valid_ratio)\n",
    "len_ofl_mdl = len_train - valid_records\n",
    "last_tr_dt = train.select(pl.col(\"date_id\")).collect().row(len_ofl_mdl)[0]\n",
    "\n",
    "print(f\"len_train: {len_train}, len_ofl_mdl: {len_ofl_mdl}, last_tr_dt: {last_tr_dt}\")\n",
    "\n",
    "training_data = train.filter(pl.col(\"date_id\") <= last_tr_dt)\n",
    "validation_data = train.filter(pl.col(\"date_id\") > last_tr_dt)"
   ]
  },
  {
   "cell_type": "code",
   "execution_count": 8,
   "metadata": {},
   "outputs": [],
   "source": [
    "training_data.collect().write_parquet(f\"./training_data.parquet\", partition_by= \"date_id\")"
   ]
  },
  {
   "cell_type": "code",
   "execution_count": 9,
   "metadata": {},
   "outputs": [],
   "source": [
    "\n",
    "validation_data.collect().write_parquet(f\"./validation_data.parquet\", partition_by= \"date_id\")"
   ]
  }
 ],
 "metadata": {
  "kernelspec": {
   "display_name": "python3.10",
   "language": "python",
   "name": "python3"
  },
  "language_info": {
   "codemirror_mode": {
    "name": "ipython",
    "version": 3
   },
   "file_extension": ".py",
   "mimetype": "text/x-python",
   "name": "python",
   "nbconvert_exporter": "python",
   "pygments_lexer": "ipython3",
   "version": "3.10.15"
  }
 },
 "nbformat": 4,
 "nbformat_minor": 2
}
